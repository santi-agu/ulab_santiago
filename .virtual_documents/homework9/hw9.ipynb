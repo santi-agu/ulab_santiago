





# IMPORT NECESSARY PACKAGES
import matplotlib.pyplot as plt
import numpy as np





#fig = plt.figure(figsize = (5, 5))





# x = [1, 2, 3, 4, 5]
# y = [2, 4, 6, 8, 10]





# plt.plot(x,y)
# plt.plot(x,y, 'o')
# plt.plot(x,y, color='blue', linestyle = 'dashed', marker = 's')





# plt.title("X and Y Plot", fontsize = 12)





# plt.xlabel("X axis", fontsize = 20)
# plt.ylabel("Y axis", fontsize = 20)





# plt.plot(x,y, label = 'Graph')
# plt.legend()





# plt.show()





def graph_construction():
    # Plots the graph y = 2x, along with the points that were used.
    # Input : None
    # Output: None
    plt.figure(figsize = (5, 5))
    x = [1, 2, 3, 4, 5]
    y = [2, 4, 6, 8, 10]
    plt.plot(x,y)
    plt.plot(x,y, 'o')
    plt.plot(x,y, color='blue', linestyle = 'dashed', marker = 's')
    plt.title("X and Y Plot", fontsize = 32)
    plt.xlabel("X axis", fontsize = 20)
    plt.ylabel("Y axis", fontsize = 20)
    plt.plot(x,y, label = 'Graph')
    plt.legend()
    plt.grid()
    plt.text(*(3.9, 8.5), 'y = 2x', fontsize=16, rotation=45) # Creates rotated text on the graph, in this case 'y = 2x'. First parameter dictates where the text is located.
    plt.show()

graph_construction()





def plot_of_multiple_functions():
    # This function graphs two functions on the xy plane, which are f(x) = x^2 and g(x) = sqrt(x). f(x) is in blue while g(x) is in red.
    # Input: None
    # Output: A list of the values of f(x) and g(x) within the domain of x.
    plt.figure(figsize = (10,8))
    
    x_values = np.linspace(0, 10, num = 51)
    function_f = x_values ** 2
    function_g = np.sqrt(x_values)
    
    plt.xlabel("X axis", fontsize = 20)
    plt.ylabel("Y axis", fontsize = 20)
    plt.title("Plot of f(x) = x^2 and g(x) = sqrt(x)", fontsize = 32)

    plt.plot(x_values,function_f, label = 'f(x)', color = 'blue', linestyle = 'dashed')
    plt.plot(x_values,function_g, label = 'g(x)', color = 'red', linestyle = 'solid')
    plt.legend()
    plt.grid()
    plt.show()


    return [function_f, function_g]

plot_of_multiple_functions()





# plt.legend(bbox_to_anchor=(1.2, 1.2), loc = 'upper right')





# I could add a vertical line by calling the method plt.axvline(x = 5) (or whatever value of x is wanted)
# A horizontal line can be added by typing plt.axhline(y = 5).





# I would change the domain of x by changing the np.linspace() method to some other numbers.
# For instance, I could write x_values = np.linspace(-5, 5, num = 51)





# I could change the x axis by calling the function plt.xlim(-10, 10)
# I could change the y axis by calling the function plt.ylim(-5, 30)





# f(x) and g(x) can be added together by summing the two arrays together.
# The code would look like this: sum_function = function_f + function_g





def modified_plot():
    # This function graphs the sum of two functions on the xy plane, which are f(x) = x^2 and g(x) = sqrt(x).
    # Input: None
    # Output: A list of the values of f(x) and g(x) within the domain of x.
    plt.figure(figsize = (10,8))
    
    x_values = np.linspace(0, 6, num = 51)
    function_f = x_values ** 2
    function_g = np.sqrt(x_values)
    sum_function = function_f + function_g
    
    plt.xlabel("X axis", fontsize = 20)
    plt.ylabel("Y axis", fontsize = 20)
    plt.title("Plot of f(x) + g(x), where f(x) = x^2 and g(x) = sqrt(x)", fontsize = 32)

    plt.plot(x_values, sum_function, label = 'f(x) + g(x)', color = 'blue', linestyle = 'solid')

    plt.axvline(x = 5)
    plt.axhline(y = 5)
    plt.xlim(0, 7)
    plt.ylim(0, 50)

    plt.legend(bbox_to_anchor=(1.2, 1.2), loc = 'upper right')
    plt.grid()
    plt.show()


    return sum_function

modified_plot()





import subplot_types





x_values = np.linspace(0, 2 * np.pi, 51)

subplot_types.side_by_side(x_values)





x_values = np.linspace(0, 2 * np.pi, 51)

subplot_types.vertical_plot(x_values)





x_values = np.linspace(0, 4 * np.pi, 51)
subplot_types.side_by_side(x_values)
subplot_types.vertical_plot(x_values)





import three_d_plotter
three_d_plotter.create_plot()





# https://matplotlib.org/stable/gallery/mplot3d/surface3d.html#sphx-glr-gallery-mplot3d-surface3d-py
# The website taught me how to plot a graph in three dimensions and how to give it color as well.





# My code is a module with a function that plots the equation z = e^-(x^2+y^2) in 3D and color-coded. I chose this particular equation because it's pretty famous, since the total volume under the curve is exactly equal to pi.






