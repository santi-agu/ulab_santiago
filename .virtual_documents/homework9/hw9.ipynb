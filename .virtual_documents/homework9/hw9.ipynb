





# IMPORT NECESSARY PACKAGES
import matplotlib.pyplot as plt
import numpy as np





#plt.figure(figsize = (5, 5))





# x = [1, 2, 3, 4, 5]
# y = [2, 4, 6, 8, 10]





# plt.plot(x,y)
# plt.plot(x,y, 'o')
# plt.plot(x,y, color='blue', linestyle = 'dashed', marker = 's')





# plt.title("X and Y Plot", fontsize = 12)





# plt.xlabel("X axis", fontsize = 20)
# plt.ylabel("Y axis", fontsize = 20)





# plt.plot(x,y, label = 'Graph')
# plt.legend()





# plt.show()





def graph_construction():
    plt.figure(figsize = (5, 5))
    x = [1, 2, 3, 4, 5]
    y = [2, 4, 6, 8, 10]
    plt.plot(x,y)
    plt.plot(x,y, 'o')
    plt.plot(x,y, color='blue', linestyle = 'dashed', marker = 's')
    plt.title("X and Y Plot", fontsize = 32)
    plt.xlabel("X axis", fontsize = 20)
    plt.ylabel("Y axis", fontsize = 20)
    plt.plot(x,y, label = 'Graph')
    plt.legend()
    plt.grid()
    plt.text(*(3.9, 8.5), 'y = 2x', fontsize=16, rotation=45)
    plt.show()

graph_construction()





def e():
    x_values = np.linspace(0, 10, num = 11)
    print(x_values)

e()





# Your comment here





# Your comment here





# Your comment here





# Your comment here





# Your comment here





# Your code here





# Import your module here





# Your code here





# Your code here





# Your code here





# Import your module and/or your code here





# Your comment here





# Your comment here






