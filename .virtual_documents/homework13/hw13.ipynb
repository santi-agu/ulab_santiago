





# I certify that I did not use AI tools, such as ChatGPT, to generate or write code for this assignment. All work submitted is my own and reflects my understanding of the material.
# Santiago Agudelo





import numpy as np
import matplotlib.pyplot as plt
from scipy.integrate import solve_ivp





g = 9.81 # m/s^2
L = 1 # meters





def pendulum(t, y):
    # returns differential equation of a pendulum. 
    # Gonna be honest, I accidentally deleted the original file we did in class. I did not push it to github, so I had to start over.
    theta, omega = y
    dthetadt = omega
    domegadt = -(g/L) * np.sin(theta)
    
    return[dthetadt, domegadt]






theta_0 = np.radians(10) # Convert 10 degrees to radians
omega_0 = 0.0 # Initial angular velocity





t_span = (0, 10)
ev = np.linspace(0, 10, 500)
sol = solve_ivp(pendulum, t_span, [theta_0, omega_0], t_eval=ev)





theta_values = sol.y[0]
time_values = sol.t





period = 2 * np.pi * np.sqrt(L / g)





print(round(period, 1))





zero_crossings = np.where(np.diff(np.sign(theta_values)))[0]
if len(zero_crossings) >= 2:
    T_numerical = 2 * (time_values[zero_crossings[1]] - time_values[zero_crossings[0]])
else:
    T_numerical = None





plt.plot(time_values, theta_values)
plt.xlabel("Time (s)")
plt.ylabel("Theta (radians)")
plt.title("Angular displacement, θ(t)")
plt.axhline(y=0, color = 'red', linestyle='--')
plt.show()





print(round(T_numerical, 4))





# The approximation is really good, there is only a .004 second difference for the period.





import pandas as pd





url = "https://covid.ourworldindata.org/data/owid-covid-data.csv"





df = pd.read_csv(url)





df_country = df[df["location"] == "United States"]








df_country = df_country[["date", "total_cases"]]
df_country = df_country[df_country != 0].dropna() # using dropna didnt work but this did!
df_country["days since start"] = range(len(df_country))





print(df_country)





from scipy.optimize import curve_fit





def exponential_growth(t, C_0, r):
    return C_0 * np.exp(r * t)





days = df_country[df_country["days since start"] < 30]["days since start"]
cases = df_country[df_country["days since start"] < 30]["total_cases"]





popt, pcov = curve_fit(exponential_growth, days, cases, p0 = [1, 0.1])





C0_fit, r_fit = popt





print(C0_fit.round(2))
print(r_fit.round(5))





future_days = np.linspace(0, 60, 61)
print(future_days)





predicted_cases = exponential_growth(future_days, C0_fit, r_fit)





plt.scatter(days, cases, label = "Actual cases")
plt.plot(future_days, predicted_cases, label = "prediction", color="red")
plt.xlabel("Days after COVID got to the USA")
plt.ylabel("Number of cases")
plt.title("Number of cases as a function of days after COVID got to the USA")
plt.legend()
plt.show()





# It actually fits the data quite nicely!





future_days = np.linspace(0, 90, 91)
predicted_cases = exponential_growth(future_days, C0_fit, r_fit)

days = df_country[df_country["days since start"] < 90]["days since start"]
cases = df_country[df_country["days since start"] < 90]["total_cases"]

plt.scatter(days, cases)
plt.plot(future_days, predicted_cases)





print("Number of cases at 87 days:", round(predicted_cases[87]))





import seaborn as sns
dataset = sns.load_dataset("penguins")
cleaned_flipper_length = dataset["flipper_length_mm"].dropna()
cleaned_body_mass = dataset["body_mass_g"].dropna()

sns.scatterplot(x="flipper_length_mm", y="body_mass_g", data=dataset)
def linear_growth(x, m, b):
    return m * x + b
popt, pcov = curve_fit(linear_growth, cleaned_flipper_length, cleaned_body_mass)
m_fit, b_fit = popt

x_values = np.linspace(170, 230, 2)
y_values = linear_growth(x_values, m_fit, b_fit)
plt.plot(x_values, y_values, color = "green")



