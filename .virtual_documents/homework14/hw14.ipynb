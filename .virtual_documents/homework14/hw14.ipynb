





from astropy import units as u





original = 60 * u.kilometer / u.hour
speed_mps = original.to(u.meter / u.second)
print(f"{speed_mps:.3f}")





# It is the current date, but only in terms of days since the beginning of the previous 





# The Gregorian calendar is more accurate. the Julian calendar assumes a leap day every 4 years without exception.
# Meanwhile the Gregorian makes an exception when the year is divisible by 100 (but not by 400).





from astropy.time import Time





now = Time.now()
julian_date = now.jd
print(julian_date)





moon_man = Time("1969-07-20 20:17:00")
julian_moon_man = moon_man.jd
print(julian_moon_man)





# NASA put a man on the moon! (I know this because it is exactly one week after my dad was born).





from astropy.coordinates import SkyCoord, Galactic, AltAz, EarthLocation





ra = 15 * u.degree
dec = -20 * u.degree
location = SkyCoord(ra=ra, dec=dec, frame='icrs')
print(location)





galactic_coord = location.transform_to(Galactic())
print(galactic_coord)





earth_location = EarthLocation(lat=37.8731 * u.degree, lon=-122.2571 * u.degree)
alt_coord = location.transform_to(AltAz(obstime=now, location=earth_location))
print(alt_coord)





from astropy.io import fits





from astropy.utils.data import download_file





import numpy as np





image_file = download_file('http://data.astropy.org/tutorials/FITS-images/HorseHead.fits', cache=True)





with fits.open(image_file) as hdul:
    hdul.info()
    data = hdul[0].data
    header = hdul[0].header
print(data)





brightest_pixel = np.max(data)
print(brightest_pixel)





least_brightest_pixel = np.min(data)





from astropy.table import Table





star_names = ["Betelgeuse", "Proxima Centauri", "Sirius"]
star_magnitudes = [0.58, 11.05, -1.46]
star_types = ["M2Iab", "M5.5 Ve", "A0mA1 Va"]
table = Table([star_names, star_magnitudes, star_types], names=["Name", "Magnitude", "Spectral Type"])
print(table)





table.write("star_data.fits", format='fits')





with fits.open("star_data.fits") as hdul:
    hdul.info()
    star_data = hdul[0].data
    star_header = hdul[0].header
print(star_data)





# It is a graph that plots stars by their luminosity and temperature.





import pandas as pd





df = pd.read_csv("cluster_data.tsv", skiprows=44, sep=';', header=None, index_col=0, names = ['HIP', 'Vmag', 'Plx', 'B-V', 'SpType'], skipfooter=1, engine='python')





print(df)





df_clean = df.applymap(lambda x: np.nan if isinstance(x, str) and x.isspace() else x)





df_clean = df_clean.dropna()





df_clean[['Vmag', 'Plx', 'B-V']] = df_clean[['Vmag', 'Plx', 'B-V']].astype(float)

# Display dataset summary
print(df_clean.describe())





df_clean['M_V'] = df_clean['Vmag'] + 5 * np.log10(df_clean['Plx'] / 100)
print(df_clean[['Vmag', 'Plx', 'M_V']].head())





# The cell above creates a new column, M_V, which describes the absolute magnitude of every star in the dataframe.
# It then prints the first few rows of the dataframe.





# Extract the first two characters (e.g., 'G2', 'K3')
df_clean['SpType2'] = df_clean['SpType'].str[:2]

# Keep only valid spectral classes
df_clean = df_clean[df_clean['SpType2'].str.match(r'^[OBAFGKM][0-9]')]

# Display unique spectral types
print(df_clean['SpType2'].unique())





# O0 type stars are the hottest, while M9 type stars are the coldest.





order = {'O': 0, 'B': 1, 'A': 2, 'F': 3, 'G': 4, 'K': 5, 'M': 6}
df_clean['SpType2_numeric'] = df_clean['SpType2'].apply(lambda x: order[x[0]]*10 + int(x[1]))





import matplotlib.pyplot as plt





x = df_clean['SpType2_numeric']
y = df_clean['M_V']
plt.scatter(x, y, s=5, alpha=0.3, c='k')

plt.xlim(0, 70)
plt.ylim(15, -10)

plt.xticks(range(5,75,10), ['O', 'B', 'A', 'F', 'G', 'K', 'M'])

plt.xlabel('Spectral Type')
plt.ylabel('Absolute Magnitude')
plt.title('H-R Diagram (Hipparcos catalog)')

plt.show()





x = df_clean['B-V']
y = df_clean['M_V']
plt.scatter(x, y, s=5, alpha=0.3, c='k')

plt.xlim(-0.5, 2.5)
plt.ylim(15, -10)

plt.xlabel('Color Index (B-V)')
plt.ylabel('Absolute Magnitude')
plt.title('H-R Diagram (Hipparcos catalog)')

plt.show()





def plot_luminosity_class(df, label, color):
    mask = df['SpType'].str.contains(label, na=False)
    plt.scatter(df[mask]['B-V'], df[mask]['M_V'], s=5, label=label, c=color, alpha=0.5)

plt.figure(figsize=(8,10))
plt.grid()
plt.xlim(-0.5, 2.5)
plt.ylim(15, -10)
plt.xlabel('Color Index (B-V)')
plt.ylabel('Absolute Magnitude')
plt.title('H-R Diagram with Luminosity Classes')

plot_luminosity_class(df_clean, 'V', 'black')  # Main Sequence
plot_luminosity_class(df_clean, 'III', 'green')  # Giants
plot_luminosity_class(df_clean, 'I', 'red')  # Supergiants

plt.legend()
plt.show()






def plot_luminosity_class(df, label, color):
    mask = df['SpType'].str.contains(label, na=False)
    plt.scatter(df[mask]['B-V'], df[mask]['M_V'], s=5, label=label, c=color, alpha=0.5)

plt.figure(figsize=(8,10))
plt.grid()
plt.xlim(-0.5, 2.5)
plt.ylim(15, -10)
plt.xlabel('Color Index (B-V)')
plt.ylabel('Absolute Magnitude')
plt.title('H-R Diagram with Luminosity Classes')

plot_luminosity_class(df_clean, 'VII', 'black') # White dwarfs
plot_luminosity_class(df_clean, 'VI', 'purple') # Subdwarfs
plot_luminosity_class(df_clean, 'V', 'blue')  # Main Sequence
plot_luminosity_class(df_clean, 'IV', 'green') #Subgiants
plot_luminosity_class(df_clean, 'III', 'yellow')  # Giants
plot_luminosity_class(df_clean, 'II', 'orange') # Bright giants
plot_luminosity_class(df_clean, 'I', 'red')  # Supergiants



