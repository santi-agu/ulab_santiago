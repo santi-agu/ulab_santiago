





# I certify that I did not use AI tools, such as ChatGPT, to generate or write code for this assignment. All work submitted is my own and reflects my understanding of the material.
# -Santiago Agudelo





def calculate_period(axis):
    # Given the semi-major axis of a planet a (in AU), calculates and returns its orbiral period (in years)
    # Uses the equation T^2 = a^3
    period = axis ** 1.5
    return period





planet_a = 0.5
planet_b = 1.0
planet_c = 1.5

print(calculate_period(planet_a))
print(calculate_period(planet_b))
print(calculate_period(planet_c))





import numpy as np





# You need to import numpy (I think that's what's being asked) only once in jupyter notebooks. 
# This is because importing a library essentially stores all of its contents into the text editor, so importing it more than once is redundant.





def calculate_period_with_numpy(axis):
    # Given the semi-major axis of a planet a (in AU), calculates and returns its orbiral period (in years)
    # Uses the equation T^2 = a^3 and the numpy library
    period = np.power(axis, 1.5)
    return period





import time





start = time.time()
calculate_period(5)
end = time.time()
print(end - start)

start = time.time()
calculate_period_with_numpy(5)
end = time.time()
print(end - start)





# The function that does not rely on numpy is a bit faster. I assume this is because numpy's implementation is more complex,
# since its methods are meant to handle entire arrays of numbers. Having more complex code generally means the code runs slower.





axis_list = []
for i in range(1000000):
    axis_list.append( i ** 2 )





start = time.time()
for i in range(1000000):
    calculate_period(axis_list[i])
end = time.time()
print(end - start)

start = time.time()
calculate_period_with_numpy(axis_list)
end = time.time()
print(end - start)





# The function with numpy is a bit faster, probably because numpy has some sort of implementation that makes it very efficient
# when dealing with large amounts of data. This shows that numpy is faster when we have large arrays, but it is not better
# to use it when we only need to do math on one number.








radii = [1.2, 0.8, 1.5, 2.0, 1.0, 0.6]
temperatures = [300, 400, 350, 280, 500, 450]
for i in range(len(radii)):
    if temperatures[i] < 350:
        print(radii[i])





print(radii[:3])





data_dictionary = {}
for i in range(len(radii)):
    data_dictionary[radii[i]] = temperatures[i]





names = ["Megatron", "Poo", "Notearth", "Chungus", "Earth", "Lil Guy"]





smaller_radii_dict = {}
index = 0
for key in data_dictionary.keys():
    if(1 <= key <= 2):
        smaller_radii_dict[names[index]] = key
    index += 1
print(smaller_radii_dict)





arr = np.array(axis_list)





mean = np.mean(arr)
print(f"Mean: {mean}")
median = np.median(arr)
print(f"Median: {median}")
minimum = np.min(arr)
print(f"Minimum: {minimum}")
maximum = np.max(arr)
print(f"Maximum: {maximum}")





# Your code here





# Your code here





# Your code here





# Your code here





# Your code here





# Your code here





# Your code here





# Your code here
