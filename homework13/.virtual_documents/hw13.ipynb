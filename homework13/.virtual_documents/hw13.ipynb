





# I certify that I did not use AI tools, such as ChatGPT, to generate or write code for this assignment. All work submitted is my own and reflects my understanding of the material.
# Santiago Agudelo





import numpy as np
import matplotlib.pyplot as plt
from scipy.integrate import solve_ivp





g = 9.81 # m/s^2
L = 1 # meters





def pendulum(t, y):
    # returns differential equation of a pendulum. 
    # Gonna be honest, I accidentally deleted the original file we did in class. I did not push it to github, so I had to start over.
    theta, omega = y
    dthetadt = omega
    domegadt = -(g/L) * np.sin(theta)
    
    return[dthetadt, domegadt]






theta_0 = np.radians(10) # Convert 10 degrees to radians
omega_0 = 0.0 # Initial angular velocity





t_span = (0, 10)
ev = np.linspace(0, 10, 500)
sol = solve_ivp(pendulum, t_span, [theta_0, omega_0], t_eval=ev)





theta_values = sol.y[0]
time_values = sol.t





period = 2 * np.pi * np.sqrt(L / g)





print(round(period, 1))





zero_crossings = np.where(np.diff(np.sign(theta_values)))[0]
if len(zero_crossings) >= 2:
    T_numerical = 2 * (time_values[zero_crossings[1]] - time_values[zero_crossings[0]])
else:
    T_numerical = None





plt.plot(time_values, theta_values)
plt.xlabel("Time (s)")
plt.ylabel("Theta (radians)")
plt.title("Angular displacement, θ(t)")
plt.axhline(y=0, color = 'red', linestyle='--')
plt.show()





print(round(T_numerical, 4))





# The approximation is really good, there is only a .004 second difference for the period.





import pandas as pd





url = "https://covid.ourworldindata.org/data/owid-covid-data.csv"





df = pd.read_csv(url)














# Your code here





# Your code here





# Your code here





# Your code here





# Your code here





# Your code here





# Your code here





# Your code here





# Your code here





# Your code here 





# Your code here





# Your comment here





# Your code here





# Your code here





# Your code here



