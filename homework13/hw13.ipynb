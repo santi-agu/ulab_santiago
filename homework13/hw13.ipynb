{
 "cells": [
  {
   "cell_type": "markdown",
   "id": "ca125a65-c84e-4290-adda-19bd879c64ca",
   "metadata": {},
   "source": [
    "# HW 13 - Introduction to SciPy\n",
    "ULAB - Physics and Astronomy Division\n",
    "Due **Sunday, February 16th, 2025 at 11:59 PM** on Gradescope.\n",
    "\n",
    "------"
   ]
  },
  {
   "cell_type": "markdown",
   "id": "fa734179-e202-4bf5-9dde-ef794c6a873c",
   "metadata": {},
   "source": [
    "## 0 Academic Integrity\n",
    "\n",
    "Please type the following message in the cell below as a comment. Sign with your name.\n",
    "\n",
    "------\n",
    "\n",
    "**I certify that I did not use AI tools, such as ChatGPT, to generate or write code for this assignment. All work submitted is my own and reflects my understanding of the material.**\n",
    "\n",
    "------\n"
   ]
  },
  {
   "cell_type": "code",
   "execution_count": 1,
   "id": "7f403c1b-2c4f-4896-b7b0-cb79e8419530",
   "metadata": {},
   "outputs": [],
   "source": [
    "# I certify that I did not use AI tools, such as ChatGPT, to generate or write code for this assignment. All work submitted is my own and reflects my understanding of the material.\n",
    "# Santiago Agudelo"
   ]
  },
  {
   "cell_type": "markdown",
   "id": "78f62cc5-d195-42b6-a2b3-1ae4a7aff076",
   "metadata": {},
   "source": [
    "## 1 Simulate a Pendulum\n",
    "A simple pendulum follows the equation:\n",
    "\n",
    "$$\n",
    "\\frac{\\text{d}^2\\theta}{\\text{d}t^2} + \\frac{g}{L}\\sin(\\theta) = 0\n",
    "$$\n",
    "\n",
    "The goal is to **numerically solve the equation** and compare it to the small-angle approximation.\n",
    "\n",
    "***Small-Angle Approximation:** a mathematical simplification used in physics when dealing with osciallatory motion, particularly for pendulums and trigonometric funcitons in general.*\n",
    "\n",
    "Import `numpy`, `matplotlib` and `solve_ivp` in the cell below."
   ]
  },
  {
   "cell_type": "code",
   "execution_count": 2,
   "id": "ef377c0f-5ebb-4498-a75e-6e1849a714a4",
   "metadata": {},
   "outputs": [],
   "source": [
    "import numpy as np\n",
    "import matplotlib.pyplot as plt\n",
    "from scipy.integrate import solve_ivp"
   ]
  },
  {
   "cell_type": "markdown",
   "id": "ba1eecb3-5078-4f9f-bc7e-e044f8241c56",
   "metadata": {},
   "source": [
    "Define the acceleration of gravity $g$ (two significant digits is fine) and the length of the pendulum $l$ in the cell below to **1 meter**."
   ]
  },
  {
   "cell_type": "code",
   "execution_count": 3,
   "id": "126b2204-8f32-45dd-9064-1a5e9021cb88",
   "metadata": {},
   "outputs": [],
   "source": [
    "g = 9.81 # m/s^2\n",
    "L = 1 # meters"
   ]
  },
  {
   "cell_type": "markdown",
   "id": "024b80f1-3244-4477-83cf-ed5dace64656",
   "metadata": {},
   "source": [
    "Write a **function** called `pendulum` that contain the arguments `t` and `y`. Write out the differential equation. Follow the structure Brianna gave in lecture, it's very similar.\n",
    "\n",
    "*Hint: The variable domega/dt should be equal to -(g / L) * np.sin(theta)*. I'll let you take care of the rest. "
   ]
  },
  {
   "cell_type": "code",
   "execution_count": 4,
   "id": "85e89e09-6ae0-4c74-bc22-5be920c7f5e6",
   "metadata": {},
   "outputs": [],
   "source": [
    "def pendulum(t, y):\n",
    "    # returns differential equation of a pendulum. \n",
    "    # Gonna be honest, I accidentally deleted the original file we did in class. I did not push it to github, so I had to start over.\n",
    "    theta, omega = y\n",
    "    dthetadt = omega\n",
    "    domegadt = -(g/L) * np.sin(theta)\n",
    "    \n",
    "    return[dthetadt, domegadt]\n"
   ]
  },
  {
   "cell_type": "markdown",
   "id": "a9bc57c4-2597-4f34-ba55-19ffb5785491",
   "metadata": {},
   "source": [
    "Give your equation some initial conditions. Run the cell below."
   ]
  },
  {
   "cell_type": "code",
   "execution_count": 5,
   "id": "b19d57e6-6c7b-478f-9f81-27f939948bc8",
   "metadata": {},
   "outputs": [],
   "source": [
    "theta_0 = np.radians(10) # Convert 10 degrees to radians\n",
    "omega_0 = 0.0 # Initial angular velocity"
   ]
  },
  {
   "cell_type": "markdown",
   "id": "70ab6f2c-7c5c-4dc0-ae66-891fd5e8b542",
   "metadata": {},
   "source": [
    "Solve the differential equation using `solve_ivp`. Set the simulation time to **10 seconds** and the time for evaluation to **10 steps**."
   ]
  },
  {
   "cell_type": "code",
   "execution_count": 18,
   "id": "6a7f6d1f-06e7-4ab2-9c13-2df7c4db66da",
   "metadata": {},
   "outputs": [],
   "source": [
    "t_span = (0, 10)\n",
    "ev = np.linspace(0, 10, 500)\n",
    "sol = solve_ivp(pendulum, t_span, [theta_0, omega_0], t_eval=ev)"
   ]
  },
  {
   "cell_type": "markdown",
   "id": "000cd7e8-5534-43de-9f03-055d7fcb1299",
   "metadata": {},
   "source": [
    "Extract the **theta** values (`sol.y`) and the **time** values (`sol.t`)."
   ]
  },
  {
   "cell_type": "code",
   "execution_count": 19,
   "id": "fba55b30-3e40-4ca2-8799-d1e4fa2ecc2e",
   "metadata": {},
   "outputs": [],
   "source": [
    "theta_values = sol.y[0]\n",
    "time_values = sol.t"
   ]
  },
  {
   "cell_type": "markdown",
   "id": "40add534-85eb-4bcf-9b3f-4808552cfe64",
   "metadata": {},
   "source": [
    "Calculate the theoretical period (aka small-angle approximation).\n",
    "\n",
    "*Hint: Use `2 * np.pi * np.sqrt(L / g)`.*"
   ]
  },
  {
   "cell_type": "code",
   "execution_count": 20,
   "id": "c9792734-41f4-4239-9654-2cb0f62845c0",
   "metadata": {},
   "outputs": [],
   "source": [
    "period = 2 * np.pi * np.sqrt(L / g)"
   ]
  },
  {
   "cell_type": "markdown",
   "id": "a9bf4d9f-c272-4be1-aad6-6bba467ccab7",
   "metadata": {},
   "source": [
    "Print out the theoretical period (small-angle approximation) to **two** significant digits."
   ]
  },
  {
   "cell_type": "code",
   "execution_count": 26,
   "id": "e7f80e4e-7b67-4214-ac14-05104d7a4335",
   "metadata": {},
   "outputs": [
    {
     "name": "stdout",
     "output_type": "stream",
     "text": [
      "2.0\n"
     ]
    }
   ],
   "source": [
    "print(round(period, 1))"
   ]
  },
  {
   "cell_type": "markdown",
   "id": "15a9117f-2740-4d31-9165-cad17029cd8c",
   "metadata": {},
   "source": [
    "Estimate the period from simulation by finding the first zero crossing. Run the cell below."
   ]
  },
  {
   "cell_type": "code",
   "execution_count": 22,
   "id": "237078dc-eb9b-447a-8658-3a79829734fd",
   "metadata": {},
   "outputs": [],
   "source": [
    "zero_crossings = np.where(np.diff(np.sign(theta_values)))[0]\n",
    "if len(zero_crossings) >= 2:\n",
    "    T_numerical = 2 * (time_values[zero_crossings[1]] - time_values[zero_crossings[0]])\n",
    "else:\n",
    "    T_numerical = None"
   ]
  },
  {
   "cell_type": "markdown",
   "id": "115b153b-a36f-425f-b820-1f721d51e842",
   "metadata": {},
   "source": [
    "Plot the results in the cell below. Add a **horizontal** line at `x=0`, give it an `x_label` of **Time (s)**, a `y_label` of **Theta (radians)** and a title."
   ]
  },
  {
   "cell_type": "code",
   "execution_count": 23,
   "id": "e9b0c18f-e3f4-46be-8961-9255aed2be94",
   "metadata": {},
   "outputs": [
    {
     "data": {
      "image/png": "[encoded data removed]",
      "text/plain": [
       "<Figure size 640x480 with 1 Axes>"
      ]
     },
     "metadata": {},
     "output_type": "display_data"
    }
   ],
   "source": [
    "plt.plot(time_values, theta_values)\n",
    "plt.xlabel(\"Time (s)\")\n",
    "plt.ylabel(\"Theta (radians)\")\n",
    "plt.title(\"Angular displacement, θ(t)\")\n",
    "plt.axhline(y=0, color = 'red', linestyle='--')\n",
    "plt.show()"
   ]
  },
  {
   "cell_type": "markdown",
   "id": "888f7aca-f543-4d35-b245-a798472f5dde",
   "metadata": {},
   "source": [
    "Print out the numerical period (what you calculated with scipy) to **four** significant digits."
   ]
  },
  {
   "cell_type": "code",
   "execution_count": 27,
   "id": "123ae3d3-b8c5-4f50-8cf5-2d10ef863091",
   "metadata": {},
   "outputs": [
    {
     "name": "stdout",
     "output_type": "stream",
     "text": [
      "2.004\n"
     ]
    }
   ],
   "source": [
    "print(round(T_numerical, 4))"
   ]
  },
  {
   "cell_type": "markdown",
   "id": "d01adf00-440c-4c8d-b0ed-a3a00391f129",
   "metadata": {},
   "source": [
    "Compare the results between the small-angle approximation and numerical calculation. How well does the approximation match the numerical result?"
   ]
  },
  {
   "cell_type": "code",
   "execution_count": null,
   "id": "47488d85-5213-4d33-8ccf-b7def3bdf35c",
   "metadata": {},
   "outputs": [],
   "source": [
    "# The approximation is really good, there is only a .004 second difference for the period. "
   ]
  },
  {
   "cell_type": "markdown",
   "id": "1bcac5d6-a926-4e64-aa3c-30d6c67a5363",
   "metadata": {},
   "source": [
    "## 2 Using Curve_Fit with Covid-19 Data\n",
    "Import `pandas` in the cell below."
   ]
  },
  {
   "cell_type": "code",
   "execution_count": null,
   "id": "103a9c58-c913-4b35-a98a-c23290ea2d0e",
   "metadata": {},
   "outputs": [],
   "source": [
    "import pandas as pd"
   ]
  },
  {
   "cell_type": "markdown",
   "id": "9a61111c-df8f-4da6-818f-473d3482d3f1",
   "metadata": {},
   "source": [
    "Run the cell below. If that doesn't work, then just **paste** the link into a web browser and it should automatically download. Then you can put the `.csv` file in the same directory as this notebook."
   ]
  },
  {
   "cell_type": "code",
   "execution_count": null,
   "id": "0d68d157-7a21-429f-b3e3-35d4f17265d9",
   "metadata": {},
   "outputs": [],
   "source": [
    "url = \"https://covid.ourworldindata.org/data/owid-covid-data.csv\""
   ]
  },
  {
   "cell_type": "markdown",
   "id": "bbf8921b-e0f1-482b-90db-2abe24f07f33",
   "metadata": {},
   "source": [
    "With the `pandas` function `read_csv`, import the data in the cell below as a dataframe `df`."
   ]
  },
  {
   "cell_type": "code",
   "execution_count": null,
   "id": "e5f7f560-3847-44a6-a225-c2e050bb0c7c",
   "metadata": {},
   "outputs": [],
   "source": [
    "df = pd.read_csv(url)"
   ]
  },
  {
   "cell_type": "markdown",
   "id": "a47210a7-612b-48e8-879f-6cf1dc53eeae",
   "metadata": {},
   "source": [
    "Select **United States** as the country and make a new data frame called `df_country` with only this information."
   ]
  },
  {
   "cell_type": "code",
   "execution_count": null,
   "id": "de9fcc71-294f-4dec-9285-153fa308d8f2",
   "metadata": {},
   "outputs": [],
   "source": [
    "# Your code here"
   ]
  },
  {
   "cell_type": "markdown",
   "id": "cf57a662-69a8-4e3b-bb2d-cc2c0f516a77",
   "metadata": {},
   "source": [
    "From your `df_country` dataframe, extract only the relevant columns: **\"date\"** and **\"total_cases\"**. \n",
    "\n",
    "*Hint: Use `.dropna()` to get rid of the other data.*"
   ]
  },
  {
   "cell_type": "markdown",
   "id": "a543c185-080d-4d17-8cac-4d90bde5354e",
   "metadata": {},
   "source": [
    "In your `df_country` dataframe, add a new column called **\"days since start\"** and covert the data to numerical days.\n",
    "\n",
    "*Hint: You can just take the length of your dataframe (`range(len(df_country))`).*"
   ]
  },
  {
   "cell_type": "code",
   "execution_count": null,
   "id": "5ded2ed2-9ed5-494f-bec8-ab1e466e559d",
   "metadata": {},
   "outputs": [],
   "source": [
    "# Your code here"
   ]
  },
  {
   "cell_type": "markdown",
   "id": "6ce228aa-f499-4565-8e72-11e7a6fbe67f",
   "metadata": {},
   "source": [
    "Print the first few rows of your `df_country` dataframe."
   ]
  },
  {
   "cell_type": "code",
   "execution_count": null,
   "id": "dd274d52-a502-4fe3-ba5b-d5bf9326e1ac",
   "metadata": {},
   "outputs": [],
   "source": [
    "# Your code here"
   ]
  },
  {
   "cell_type": "markdown",
   "id": "993623bc-b832-4393-9185-84b104e3eee1",
   "metadata": {},
   "source": [
    "In the cell below, import `curve_fit`. Make sure to have `numpy` imported in this notebook as well."
   ]
  },
  {
   "cell_type": "code",
   "execution_count": null,
   "id": "4ef2edde-3d83-44ca-a74a-d61043389c8c",
   "metadata": {},
   "outputs": [],
   "source": [
    "# Your code here"
   ]
  },
  {
   "cell_type": "markdown",
   "id": "14b3ea49-940d-4ad8-93bd-b6b04c01b4eb",
   "metadata": {},
   "source": [
    "### Some background:\n",
    "At the beginning of an outbreak, the number of cases follows an exponential growth model:\n",
    "\n",
    "$$\n",
    "C(t) = C_0 e^{rt}\n",
    "$$\n",
    "\n",
    "where\n",
    "* $C(t)$ = number of cases at time $t$.\n",
    "* $C_0$ = initial number of cases.\n",
    "* $r$ = growth rate.\n",
    "* $t$ = time in days.\n",
    "\n",
    "Write a **function** called `exponential_growth` that takes in arguments `t`, `C_0` and `r`. Return the function given above."
   ]
  },
  {
   "cell_type": "code",
   "execution_count": null,
   "id": "a4439deb-ae5e-4c3d-a0bb-6b2b1c151107",
   "metadata": {},
   "outputs": [],
   "source": [
    "# Your code here"
   ]
  },
  {
   "cell_type": "markdown",
   "id": "3cf4bc0d-f721-41ec-9bd9-25181db97d48",
   "metadata": {},
   "source": [
    "Make a new variable called `days` and another new variable called `cases`. To the `days` variable give it the first 30 rows (your column **\"days_since_start\"**) and to the `cases` variable give it the first 30 rows (your column **\"total_cases\"**)."
   ]
  },
  {
   "cell_type": "code",
   "execution_count": null,
   "id": "5b374d61-c495-43ef-8dab-6be89ea757c9",
   "metadata": {},
   "outputs": [],
   "source": [
    "# Your code here"
   ]
  },
  {
   "cell_type": "markdown",
   "id": "1800f1b9-3b55-4d51-9aae-f353a2c3850c",
   "metadata": {},
   "source": [
    "With `curve_fit` fit the model. Give it the argument `p0 = [1, 0.1]`."
   ]
  },
  {
   "cell_type": "code",
   "execution_count": null,
   "id": "3f93f54f-1c10-4d4c-a243-b1815b8f2721",
   "metadata": {},
   "outputs": [],
   "source": [
    "# Your code here"
   ]
  },
  {
   "cell_type": "markdown",
   "id": "a87a4a14-b5e6-4377-87d2-cc09881176e4",
   "metadata": {},
   "source": [
    "Extract the best-fit parameters from `popt`. Call them `C0_fit` and `r_fit`."
   ]
  },
  {
   "cell_type": "code",
   "execution_count": null,
   "id": "15c1be9c-df75-404a-a8bb-87dc0a0c5630",
   "metadata": {},
   "outputs": [],
   "source": [
    "# Your code here"
   ]
  },
  {
   "cell_type": "markdown",
   "id": "86eaeb8c-fbb6-4d41-a1a7-9e1d520af28a",
   "metadata": {},
   "source": [
    "Print your variables `C0_fit` with **two** significant digits. Print your variables `r_fit` with **four** significant digits."
   ]
  },
  {
   "cell_type": "code",
   "execution_count": null,
   "id": "fb511de8-ce1a-431b-8144-eeb0e0bab9d3",
   "metadata": {},
   "outputs": [],
   "source": [
    "# Your code here"
   ]
  },
  {
   "cell_type": "markdown",
   "id": "e8799881-9b91-4d8b-af61-674cff2e7117",
   "metadata": {},
   "source": [
    "Make sure to have `matplotlib` imported. Make a variable called `future_days` give it a numpy range from `0` to `60`. We want to predict up to 60 days."
   ]
  },
  {
   "cell_type": "code",
   "execution_count": null,
   "id": "6ba1a736-90a5-4fa8-b570-210ac997d0b9",
   "metadata": {},
   "outputs": [],
   "source": [
    "# Your code here"
   ]
  },
  {
   "cell_type": "markdown",
   "id": "df1ecb07-802a-4f11-9e57-4df58afd87f7",
   "metadata": {},
   "source": [
    "Make a variable called `predicted_cases` set it equal to your function `exponential_growth` with inputs being `future_days` and your `curve_fit` outputs. \n",
    "\n",
    "*Hint: You will want to use `*popt` as your `curve_fit` input.*"
   ]
  },
  {
   "cell_type": "code",
   "execution_count": null,
   "id": "a6d2a54f-c78f-4151-816e-b8c67db055ab",
   "metadata": {},
   "outputs": [],
   "source": [
    "# Your code here "
   ]
  },
  {
   "cell_type": "markdown",
   "id": "a88e89ad-7d0d-4377-8366-133f80d088a2",
   "metadata": {},
   "source": [
    "**Scater** the variable `cases` as a function of `days`. **Plot** the variable `future_days` as a function of `predicted_cases`. \n",
    "\n",
    "Don't forget a label for your x-axis, y-axis, title and legend."
   ]
  },
  {
   "cell_type": "code",
   "execution_count": null,
   "id": "d3a193a8-73e9-428f-9d2e-af77bb7d7c2c",
   "metadata": {},
   "outputs": [],
   "source": [
    "# Your code here"
   ]
  },
  {
   "cell_type": "markdown",
   "id": "91ad4480-392b-4a99-9f8c-2daca3c8e87d",
   "metadata": {},
   "source": [
    "How well does your exponential model fit the actual COVID-19 data? "
   ]
  },
  {
   "cell_type": "code",
   "execution_count": null,
   "id": "1f5c58cf-6414-4be2-8634-8d839b0be46a",
   "metadata": {},
   "outputs": [],
   "source": [
    "# Your comment here"
   ]
  },
  {
   "cell_type": "markdown",
   "id": "883911bb-6321-4881-b318-c6b50b705c17",
   "metadata": {},
   "source": [
    "Make another plot but this time to **90 days**."
   ]
  },
  {
   "cell_type": "code",
   "execution_count": null,
   "id": "e7c92fd4-f182-450a-ae88-c5dd09e1dee0",
   "metadata": {},
   "outputs": [],
   "source": [
    "# Your code here"
   ]
  },
  {
   "cell_type": "markdown",
   "id": "aed64d69-54f1-4136-a82a-840be2ff4199",
   "metadata": {},
   "source": [
    "What does your model predict the number of cases to be at 87 days? Print in the cell below."
   ]
  },
  {
   "cell_type": "code",
   "execution_count": null,
   "id": "a80d00ab-2012-4773-b28c-076f43e9f831",
   "metadata": {},
   "outputs": [],
   "source": [
    "# Your code here"
   ]
  },
  {
   "cell_type": "markdown",
   "id": "77634fad-6580-4aab-b470-44803153677d",
   "metadata": {},
   "source": [
    "## 3 Seaborn\n",
    "Use Seaborn to visualize your data, NOT matplotlib. \n",
    "1) Go to this website and **pick a dataset that interest you**: https://github.com/mwaskom/seaborn-data\n",
    "2) Go to this website for documentation: https://seaborn.pydata.org/index.html\n",
    "3) Import seaborn data (*Hint: You can use the function `sns.load dataset()`. For example, `sns.load dataset('planets')`.*\n",
    "4) Make a cool plot!\n",
    "5) With `scipy` add a model to your data. (This can be a different plot.)"
   ]
  },
  {
   "cell_type": "code",
   "execution_count": null,
   "id": "839aa5ca-24a9-4201-ad69-abbf0ae1c768",
   "metadata": {},
   "outputs": [],
   "source": [
    "# Your code here"
   ]
  },
  {
   "cell_type": "markdown",
   "id": "affefbb6-f295-4e2e-9d3e-9f66fd68dd2f",
   "metadata": {},
   "source": [
    "On it's own branch, submit this notebook to Gradescope! "
   ]
  }
 ],
 "metadata": {
  "kernelspec": {
   "display_name": "Python 3 (ipykernel)",
   "language": "python",
   "name": "python3"
  },
  "language_info": {
   "codemirror_mode": {
    "name": "ipython",
    "version": 3
   },
   "file_extension": ".py",
   "mimetype": "text/x-python",
   "name": "python",
   "nbconvert_exporter": "python",
   "pygments_lexer": "ipython3",
   "version": "3.12.7"
  }
 },
 "nbformat": 4,
 "nbformat_minor": 5
}
