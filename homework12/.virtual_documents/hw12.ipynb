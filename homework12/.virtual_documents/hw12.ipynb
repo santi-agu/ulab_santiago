





# I certify that I did not use AI tools, such as ChatGPT, to generate or write code for this assignment. All work submitted is my own and reflects my understanding of the material.
# Santiago Agudelo





import pandas as pd





df = pd.read_csv('exoplanet_data.csv', comment='#')





print(df.columns)





print(df.columns.values)





print(df["pl_name"])





print(len(df))





planet_data = df[["pl_name", "pl_rade", "pl_bmassj", "pl_eqt"]]





print(planet_data)





df.plot(x = "pl_rade", y="pl_eqt", kind='scatter')





# It is a positive correlation





temperature_list = planet_data['pl_eqt']
min_temp = min(temperature_list)
print("Planet Name: ", planet_data['pl_name'].iloc[pd.Index(temperature_list).get_loc(min_temp)], " Minimum temperature: ", min_temp)





coldest_planet = df.iloc[pd.Index(temperature_list).get_loc(min_temp)]





print(len(coldest_planet))





cleaned_planet_data = coldest_planet.dropna(axis=0) 
# Yea for some reason axis=1 gave an error but axis=0 works fine





print(len(cleaned_planet_data))





# A temperate super-Jupiter imaged with JWST in the mid-infrared





# Researchers claim to have found a larger than Jupiter sized exoplanet through JWST's infrared camera.
# They also claim that the previous data mischaracterized many properties of this planet, and that this is the only large planet in the system.
# I trust their methods because I am only a college freshman and they are actual physicists.
# However, it is a bit suspicious that they don't give concrete numbers for the planet's brightness,
# despite the fact that they keep mentioning that it is particularly bright.





# Its discovery method (radial velocity), its temperature (275 K), and its star's spectral type (K5 V) are consistent with the paper.
# The pl_refname also mentions the authors of the paper.





# The paper mentions the distance from Earth to the planet, along with its star's age, but the data makes no mention of that.
# The paper also mentions the planet's proper motion, which I don't think was in the data.





age = 3.5





cleaned_planet_data["Age"] = age








# Your code here



