





# IMPORT NECESSARY PACKAGES
import matplotlib.pyplot as plt
import numpy as np





#fig = plt.figure(figsize = (5, 5))





# x = [1, 2, 3, 4, 5]
# y = [2, 4, 6, 8, 10]





# plt.plot(x,y)
# plt.plot(x,y, 'o')
# plt.plot(x,y, color='blue', linestyle = 'dashed', marker = 's')





# plt.title("X and Y Plot", fontsize = 12)





# plt.xlabel("X axis", fontsize = 20)
# plt.ylabel("Y axis", fontsize = 20)





# plt.plot(x,y, label = 'Graph')
# plt.legend()





# plt.show()





def graph_construction():
    # Plots the graph y = 2x, along with the points that were used.
    # Input : None
    # Output: None
    plt.figure(figsize = (5, 5))
    x = [1, 2, 3, 4, 5]
    y = [2, 4, 6, 8, 10]
    plt.plot(x,y)
    plt.plot(x,y, 'o')
    plt.plot(x,y, color='blue', linestyle = 'dashed', marker = 's')
    plt.title("X and Y Plot", fontsize = 32)
    plt.xlabel("X axis", fontsize = 20)
    plt.ylabel("Y axis", fontsize = 20)
    plt.plot(x,y, label = 'Graph')
    plt.legend()
    plt.grid()
    plt.text(*(3.9, 8.5), 'y = 2x', fontsize=16, rotation=45) # Creates rotated text on the graph, in this case 'y = 2x'. First parameter dictates where the text is located.
    plt.show()

graph_construction()





def plot_of_multiple_functions():
    # This function graphs two functions on the xy plane, which are f(x) = x^2 and g(x) = sqrt(x). f(x) is in blue while g(x) is in red.
    # Input: None
    # Output: A list of the values of f(x) and g(x) within the domain of x.
    plt.figure(figsize = (10,8))
    
    x_values = np.linspace(0, 10, num = 51)
    function_f = x_values ** 2
    function_g = np.sqrt(x_values)
    
    plt.xlabel("X axis", fontsize = 20)
    plt.ylabel("Y axis", fontsize = 20)
    plt.title("Plot of f(x) = x^2 and g(x) = sqrt(x)", fontsize = 32)

    plt.plot(x_values,function_f, label = 'f(x)', color = 'blue', linestyle = 'dashed')
    plt.plot(x_values,function_g, label = 'g(x)', color = 'red', linestyle = 'solid')
    plt.legend()
    plt.grid()
    plt.show()
    return [function_f, function_g]

plot_of_multiple_functions()





# plt.legend(bbox_to_anchor=(1.2, 1.2), loc = 'upper right')





# Your comment here





# Your comment here





# Your comment here





# Your comment here





# Your code here





import subplot_types





x_values = np.linspace(0, 2 * np.pi, 51)

subplot_types.side_by_side(x_values)





x_values = np.linspace(0, 2 * np.pi, 51)

subplot_types.vertical_plot(x_values)





x_values = np.linspace(0, 4 * np.pi, 51)
subplot_types.side_by_side(x_values)
subplot_types.vertical_plot(x_values)





# Import your module and/or your code here





# Your comment here





# Your comment here






