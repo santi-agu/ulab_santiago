{
 "cells": [
  {
   "cell_type": "markdown",
   "id": "21a1f0d2-d75c-4443-b816-1d1db3760454",
   "metadata": {},
   "source": [
    "# HW 7 - Libraries + Modules\n",
    "ULAB - Physics and Astronomy Division \\\n",
    "Due **Wednesday, November 6th, 2024 at 11:59pm** on Gradescope\n",
    "\n",
    "--------------------------------------------------------------\n",
    "\n",
    "## Module vs. Package vs. Library\n",
    "### Module\n",
    "A **module** is a single file containing Python code (typically ending in a `.py` extension) that contains functions and variables. \n",
    "- They can be imported into other Python files or notebooks\n",
    "- You use modules to organize code into smaller, reuseable parts\n",
    "- Ex: `even_sum.py` that we created during lecture.\n",
    "\n",
    "*You will create your OWN module for this homework and use that we made during class.*\n",
    "\n",
    "### Package\n",
    "A **package** is a group of modules, organized like a directory. \n",
    "- A package requires a special `__init__.py` file to tell Python that the ENTIRE directory is something you would like to import.\n",
    "- Packages can contain sub-pacakges\n",
    "- Ex: `BAGLE_Microlensing` is an example of a package (if you are in Dex's group, this should be familar to you). Or you could think of `paarti` if you are in Brianna's group.\n",
    "\n",
    "*You will NOT be working with a package for this homework.*\n",
    "\n",
    "### Library\n",
    "A **library** is a much broader term that also refers to a collection of modules (like a package) but a library can also contain mulitple packages. \n",
    "- Libraries serve a much wider range of functionality for\n",
    "- Programmers use packages to have ready-to-go tools that can be used for data manipulation, web development, machine learning or simulations.\n",
    "- Ex: `numpy` is a very common library. Later in this course we will also be working some of the following libraries `matplotlib`, `scipy`, and `astropy`, `pandas`, etc\n",
    "\n",
    "*You WILL be working with the extensive numpy library for this homework!*\n",
    "\n",
    "--------------------------------------------------------------"
   ]
  },
  {
   "cell_type": "markdown",
   "id": "8dc7e46b-1e8e-486c-a2e9-d615c687028b",
   "metadata": {},
   "source": [
    "# 1 NumPy\n",
    "**NumPy** (aka Numerical Python) is a library that was designed for caring out computations in Python. \n",
    "\n",
    "We did not have a ton of time to work through examples during class, so I will ask that you check out this website for more information: https://numpy.org/doc/ \n",
    "\n",
    "Before we can work through any problems, you need to call the following in your notebook:"
   ]
  },
  {
   "cell_type": "code",
   "execution_count": 159,
   "id": "08dabd73-3dbc-4aab-843a-d4b81102835d",
   "metadata": {},
   "outputs": [],
   "source": [
    "import numpy as np"
   ]
  },
  {
   "cell_type": "markdown",
   "id": "92c77920-20fc-455e-bf52-10b5a518ed2d",
   "metadata": {},
   "source": [
    "## 1.1 Lists vs. Arrays\n",
    "*When I first started working with NumPy I didn't understand what was so special about arrays. This homework problem should help illustrate the difference. Make sure to follow each step and follow good coding practices.*\n",
    "\n",
    "1) Make a list called `my_list` and make an array called `my_arr` with the same values. There is an example below, but don't copy mine! Ex:\n",
    "```\n",
    "my_list = [11, 12, 13, 14, 15]\n",
    "my_arr = np.array([11, 12, 13, 14, 15])\n",
    "```\n",
    "*Notice that to use the `numpy` package we had to call its short cut `np` and then call upon its funciton `.array()`. This is similar to working with a built-in python function like `.append()`.*"
   ]
  },
  {
   "cell_type": "code",
   "execution_count": 160,
   "id": "494f31ac-a231-4f65-b202-e85208d6bee4",
   "metadata": {},
   "outputs": [],
   "source": [
    "my_list = [0, 1, 1, 2, 3, 5, 8, 13]\n",
    "my_arr = np.array([0, 1, 1, 2, 3, 5, 8, 13])"
   ]
  },
  {
   "cell_type": "markdown",
   "id": "861d42c4-411e-4ef9-b85c-68e1f61c4fcb",
   "metadata": {},
   "source": [
    "2) Multiply `my_list` by 4 and multiply `my_arr` by 4. Print the results. Describe what happens in a comment."
   ]
  },
  {
   "cell_type": "code",
   "execution_count": 161,
   "id": "79245f57-3a83-4300-96d2-ea7a9035d3eb",
   "metadata": {},
   "outputs": [
    {
     "name": "stdout",
     "output_type": "stream",
     "text": [
      "[0, 1, 1, 2, 3, 5, 8, 13, 0, 1, 1, 2, 3, 5, 8, 13, 0, 1, 1, 2, 3, 5, 8, 13, 0, 1, 1, 2, 3, 5, 8, 13]\n",
      "[ 0  4  4  8 12 20 32 52]\n"
     ]
    }
   ],
   "source": [
    "# When my_list is multiplied by four, the contents of the list are printed four times.\n",
    "# Meanwhile, when my_arr is multiplied by four, every number in the array actually gets multiplied by four instead.\n",
    "four_times_my_list = my_list * 4\n",
    "four_times_my_arr = my_arr * 4\n",
    "print(four_times_my_list)\n",
    "print(four_times_my_arr)"
   ]
  },
  {
   "cell_type": "markdown",
   "id": "aa2dc2fb-7a26-42e8-90db-18d1598f4d7c",
   "metadata": {},
   "source": [
    "3) Add `my_list` with `my_list`. Add `my_arr` with `my_arr`. Add `my_list` with `my_arr`. Print the results. Describe what happens in a comment."
   ]
  },
  {
   "cell_type": "code",
   "execution_count": 162,
   "id": "9f18f22e-3137-4aa9-b623-6d2c0caec4c3",
   "metadata": {},
   "outputs": [
    {
     "name": "stdout",
     "output_type": "stream",
     "text": [
      "[0, 1, 1, 2, 3, 5, 8, 13, 0, 1, 1, 2, 3, 5, 8, 13]\n",
      "[ 0  2  2  4  6 10 16 26]\n",
      "[ 0  2  2  4  6 10 16 26]\n"
     ]
    }
   ],
   "source": [
    "# When my_list is added to itself, the contents of the list are printed twice.\n",
    "# When my_arr is added to itself, each element in my_arr is added to itself.\n",
    "# When my_arr and my_list are added, every element in my_list is added to its corresponding element in my_arr.\n",
    "\n",
    "sum_my_list = my_list + my_list\n",
    "sum_my_arr = my_arr + my_arr\n",
    "arr_list_sum = my_arr + my_list\n",
    "\n",
    "print(sum_my_list)\n",
    "print(sum_my_arr)\n",
    "print(arr_list_sum)"
   ]
  },
  {
   "cell_type": "markdown",
   "id": "3be18720-756f-43d1-bad7-bd85e138ef7e",
   "metadata": {},
   "source": [
    "4) Subtract `my_list` with `my_list`. Subtract `my_arr` with `my_arr`. Subtract `my_list` with `my_arr`. Print the results. Describe what happens in a comment."
   ]
  },
  {
   "cell_type": "code",
   "execution_count": 163,
   "id": "131b09c8-d352-4566-b710-31316483ae89",
   "metadata": {},
   "outputs": [
    {
     "name": "stdout",
     "output_type": "stream",
     "text": [
      "[0 0 0 0 0 0 0 0]\n",
      "[0 0 0 0 0 0 0 0]\n"
     ]
    }
   ],
   "source": [
    "# If my_list is subtracted from itself, a TypeError is thrown, which means lists can't be subtracted from each other.\n",
    "# Meanwhile, when my_arr is subtracted from itself, each element is also subtracted by itself which creates an array of only zeroes.\n",
    "# When my_arr is subtracted by my_list, each element in the array is subtracted by its corresponding in the list.\n",
    "\n",
    "#difference_my_list = my_list - my_list\n",
    "difference_my_arr = my_arr - my_arr\n",
    "arr_list_difference = my_arr - my_list\n",
    "\n",
    "#print(difference_my_list)\n",
    "print(difference_my_arr)\n",
    "print(arr_list_difference)"
   ]
  },
  {
   "cell_type": "markdown",
   "id": "9089eff6-4251-4a52-b263-c77b11343ece",
   "metadata": {},
   "source": [
    "5) Multiply `my_list` with `my_list`. Multply `my_arr` with `my_arr`. Multiply `my_list` with `my_arr`. Print the results. Describe what happens in a comment."
   ]
  },
  {
   "cell_type": "code",
   "execution_count": 164,
   "id": "cae7749f-cc6e-45d6-9e07-72aa2cefc0b6",
   "metadata": {},
   "outputs": [
    {
     "name": "stdout",
     "output_type": "stream",
     "text": [
      "[  0   1   1   4   9  25  64 169]\n",
      "[  0   1   1   4   9  25  64 169]\n"
     ]
    }
   ],
   "source": [
    "# When my_list is attempted to be multiplied by itself, a TypeError is thrown.\n",
    "# Meanwhile, when my_arr is multiplied by itself, each element is also multiplied by itself.\n",
    "# When my_list is multiplied by my_arr, each element in my_list is multiplied by its respective element in my_arr.\n",
    "\n",
    "#list_product = my_list * my_list\n",
    "arr_product = my_arr * my_arr\n",
    "list_arr_product = my_list * my_arr\n",
    "\n",
    "#print(list_product)\n",
    "print(arr_product)\n",
    "print(list_arr_product)"
   ]
  },
  {
   "cell_type": "markdown",
   "id": "55175f6e-e6b2-41b1-8015-5f1b099664e8",
   "metadata": {},
   "source": [
    "7) Divide `my_list` with `my_list`. Divide `my_arr` with `my_arr`. Divide `my_list` with `my_arr`. Print the results. Describe what happens in a comment."
   ]
  },
  {
   "cell_type": "code",
   "execution_count": 165,
   "id": "ccdc8e13-ec41-4b79-8034-0934c012580e",
   "metadata": {},
   "outputs": [
    {
     "name": "stdout",
     "output_type": "stream",
     "text": [
      "[nan  1.  1.  1.  1.  1.  1.  1.]\n",
      "[nan  1.  1.  1.  1.  1.  1.  1.]\n"
     ]
    },
    {
     "name": "stderr",
     "output_type": "stream",
     "text": [
      "/var/folders/2k/qs3fzwfx7f10891ccxk4lsrxg7168y/T/ipykernel_25844/2317109204.py:6: RuntimeWarning: invalid value encountered in divide\n",
      "  arr_quotient = my_arr / my_arr\n",
      "/var/folders/2k/qs3fzwfx7f10891ccxk4lsrxg7168y/T/ipykernel_25844/2317109204.py:7: RuntimeWarning: invalid value encountered in divide\n",
      "  list_arr_quotient = my_list / my_arr\n"
     ]
    }
   ],
   "source": [
    "# When my_list is attempted to be divided by itself, a TypeError is thrown.\n",
    "# When my_arr is divided by itself, each element is also divided by itself. You also get a warning when you divide by zero.\n",
    "# When my_list is divded by my_arr, each element in the list is divided by its respective element in the array.\n",
    "\n",
    "#list_quotient = my_list / my_list\n",
    "arr_quotient = my_arr / my_arr\n",
    "list_arr_quotient = my_list / my_arr\n",
    "\n",
    "#print(list_quotient)\n",
    "print(arr_quotient)\n",
    "print(list_arr_quotient)"
   ]
  },
  {
   "cell_type": "markdown",
   "id": "1fb261e6-b99b-4e36-953a-e899da010469",
   "metadata": {},
   "source": [
    "8) After working through this problem, in at least two sentences, describe the difference between a list and an array."
   ]
  },
  {
   "cell_type": "code",
   "execution_count": 166,
   "id": "d702ddad-c84d-43d5-9fe0-d10b9083bf85",
   "metadata": {},
   "outputs": [],
   "source": [
    "# One big difference between arrays and lists is that there are more arithemtic operations that can be done on an array than on a list.\n",
    "# Also, when a list is added to itself or multiplied by a number, its elements are just repeated.\n",
    "# Meanwhile, the numbers inside an array are actually added/subtracted/multiplied/divided in the traditional sense."
   ]
  },
  {
   "cell_type": "markdown",
   "id": "fdbccced-d3f0-4948-be6e-471028979576",
   "metadata": {},
   "source": [
    "## 1.2 Nested List and Multi-Dimensional Arrays\n",
    "A **nested list** is when you have a list as an element for a list. Example:\n",
    "```\n",
    "nested_list = [[1, 2, 3], [4, 5, 6]]\n",
    "```\n",
    "\n",
    "A **multi-dimensional array** is essentially a nested list, but it contains the properties of a matrix. Example:\n",
    "```\n",
    "multi_d_array = np.array([[1, 2, 3], [4, 5, 6]])\n",
    "```\n",
    "\n",
    "Go to this website for more information on NumPy: https://www.w3schools.com/python/numpy/default.asp\n",
    "\n",
    "Write a **function** that takes in a two-dimensional array. Example:\n",
    "\n",
    "```\n",
    "arr3 = np.array([[2, 4, 6], [8, 10, 12], [14, 16, 18]])\n",
    "```\n",
    "\n",
    "and then returns the second value in each row. Example:\n",
    "\n",
    "```\n",
    "[4, 10, 16]\n",
    "```"
   ]
  },
  {
   "cell_type": "code",
   "execution_count": 167,
   "id": "e6d45993-2390-4e2d-bb6e-930919dd7d46",
   "metadata": {},
   "outputs": [
    {
     "name": "stdout",
     "output_type": "stream",
     "text": [
      "[4534, 203, 230]\n"
     ]
    }
   ],
   "source": [
    "def second_value(two_dimensional_arr):\n",
    "    # Returns the second value of each row in a two-dimensional array.\n",
    "    # Input: a 2D array with 2 or more rows\n",
    "    # Output: a list\n",
    "    second_value_list = []\n",
    "    for i in range(len(two_dimensional_arr)):\n",
    "        second_value_list.append(two_dimensional_arr[i, 1])\n",
    "\n",
    "    return second_value_list\n",
    "\n",
    "\n",
    "multi_d_arr = np.array([[7,4534, 9,2], [4,203,89,8], [1,230,654,9]])\n",
    "print(second_value(multi_d_arr))"
   ]
  },
  {
   "cell_type": "markdown",
   "id": "e5c0700d-def9-4afe-86f5-0a4b8862c0b4",
   "metadata": {},
   "source": [
    "In 2-3 sentences, describe what section of the website helped you write your function. "
   ]
  },
  {
   "cell_type": "code",
   "execution_count": 168,
   "id": "179c2c8d-3493-40a5-931f-7a92be8551a6",
   "metadata": {},
   "outputs": [],
   "source": [
    "# The NumPy Array Indexing section helped me figure out the syntax for a two dimensional array.\n",
    "# Frankly, that was the only thing I looked at on the website. \n",
    "# I kind of guessed that the len() method would work in the same way as it did with a list, which ended up being right."
   ]
  },
  {
   "cell_type": "markdown",
   "id": "2bee5ead-232c-495c-8e42-1721bd315957",
   "metadata": {},
   "source": [
    "How would you take a nested list and return the second value in each row? Explain in 2-3 sentences and show an example."
   ]
  },
  {
   "cell_type": "code",
   "execution_count": 169,
   "id": "f572d5cd-9bec-4290-ae77-bbfd27271750",
   "metadata": {},
   "outputs": [],
   "source": [
    "# The process would not be much different. First, I would create an empty list variable called second_value_list.\n",
    "# Then, I would create a for loop that uses the range function to iterate through every element in the list.\n",
    "# Next, i would append the second_value_list with the second value of each row in the original list.\n",
    "# I looked up the syntax for a nested list, and in order to access the second value you would do something like: list1[i][1].\n",
    "# Finally, I would return second_value_list.\n",
    "# For example, let's say list1 = [[7,4534, 9,2], [4,203,89,8], [1,230,654,9]].\n",
    "# The function should return [4534, 203, 230]."
   ]
  },
  {
   "cell_type": "markdown",
   "id": "25eaeadc-b09d-4ca8-9849-822879abdad2",
   "metadata": {},
   "source": [
    "## 1.3 Up to You!\n",
    "With the website I just gave you: https://www.w3schools.com/python/numpy/default.asp\n",
    "\n",
    "I recommend working through the examples they provide (you don't have to do all of them, but a few would be good). It will help you build an intuition for numpy. It won't take very long, there are only a couple of examples per section.\n",
    "\n",
    "Write you own **function** that follows the theme of one of the sections (i.e. array reshaping, array filter, random intro, etc). For example, if you are curious about the section \"**NumPy Creating Arrays**\" you could write a function that creates a multi-dimensional array.\n",
    "\n",
    "```\n",
    "\n",
    ">>> def make_multi_dimensional_array(one_d_array, dimensions):\n",
    "...     # Creates a multi-dimensional array\n",
    "...     # Your code here\n",
    "...     return # Your code here\n",
    "\n",
    ">>> my_one_d_array = [2, 4, 6, 8]\n",
    ">>> my_dimension = 10\n",
    ">>> ten_d_array = make_multi_dimensional_array(my_one_d_array, my_dimension)\n",
    ">>> print(ten_d_array)\n",
    "[[[[[[[[[[2 4 6 8]]]]]]]]]]\n",
    "\n",
    "```\n",
    "\n",
    "Your function should be more detailed than the example I gave you. Include at least one of the following: \n",
    "- a conditional statement\n",
    "- an assignment operator\n",
    "- a loop (`for` or `while`)\n",
    "- `if`, `elif`, `else`, statement"
   ]
  },
  {
   "cell_type": "code",
   "execution_count": 170,
   "id": "359f524a-30ee-446c-a6d6-a57faecf5bcb",
   "metadata": {},
   "outputs": [
    {
     "name": "stdout",
     "output_type": "stream",
     "text": [
      "[[1 2]\n",
      " [3 4]\n",
      " [5 6]\n",
      " [7 8]]\n"
     ]
    }
   ],
   "source": [
    "def transpose_matrix(two_d_array):\n",
    "    # Transposes a 2D matrix.\n",
    "    # In other words, the function changes the rows into columns and columns into rows.\n",
    "    # Input: 2D Matrix\n",
    "    # Output: 2D Matrix\n",
    "\n",
    "    # Checks if the array is actually 2D\n",
    "    if two_d_array.shape[0] != 2:\n",
    "        return \"Error. Array is not 2D.\"\n",
    "    else:\n",
    "        num_columns = len(two_d_array[0])\n",
    "        #Checks if the number of columns is the same for every row\n",
    "        for row in two_d_array:\n",
    "            if len(row) != num_columns:\n",
    "                return \"Error. 2D array is not a matrix.\"\n",
    "            \n",
    "        num_rows = len(two_d_array)\n",
    "        transposal = two_d_array.reshape(num_columns, num_rows)\n",
    "    \n",
    "        return transposal\n",
    "\n",
    "arr = np.array([[1,2,3,4], [5,6,7,8]])\n",
    "transposed_matrix = transpose_matrix(arr)\n",
    "print(transposed_matrix)"
   ]
  },
  {
   "cell_type": "markdown",
   "id": "88df7c51-0196-42b5-aabf-5068bc6ad675",
   "metadata": {},
   "source": [
    "In the section you took inspiration from, show all of the examples below. Follow good coding practices and give at least two test cases for each example. Don't forget comments! \\\n",
    "\\\n",
    "*For my example, I took inspiration from **NumPy Creating Arrays** so I would show following examples with DIFFERENT test cases: Create a NumPy ndarray Object, Dimensions in Arrays ,0-D Arrays, 1-D Arrays, 2-D Arrays, 3-D Arrays, Check Number of Dimensions, Higher Dimensional Arrays.*"
   ]
  },
  {
   "cell_type": "code",
   "execution_count": 171,
   "id": "193b91b8-de1d-4aee-af90-6a0e10930b55",
   "metadata": {},
   "outputs": [
    {
     "name": "stdout",
     "output_type": "stream",
     "text": [
      "[[0 1]\n",
      " [1 2]\n",
      " [3 5]]\n",
      "\n",
      "[[   2    4    8   16   32]\n",
      " [  64  128  256  512 1024]]\n",
      "\n",
      "\n",
      "\n",
      "[[[1 2]\n",
      "  [3 4]]\n",
      "\n",
      " [[5 6]\n",
      "  [7 8]]]\n",
      "\n",
      "[[[11 22]\n",
      "  [33 44]]\n",
      "\n",
      " [[55 66]\n",
      "  [77 88]]]\n",
      "\n",
      "\n",
      "\n",
      "[[[      1       2]\n",
      "  [      6      24]\n",
      "  [    120     720]]\n",
      "\n",
      " [[   5040   40320]\n",
      "  [ 362880 3628800]\n",
      "  [     60      70]]]\n",
      "\n",
      "\n",
      "\n",
      "[[1 0 0]\n",
      " [0 0 1]]\n",
      "\n",
      "\n",
      "\n",
      "[[[1 2]\n",
      "  [3 3]]\n",
      "\n",
      " [[2 1]\n",
      "  [1 3]]\n",
      "\n",
      " [[2 3]\n",
      "  [1 2]]]\n",
      "\n",
      "\n",
      "\n",
      "[0 1 1 2 3 5]\n"
     ]
    }
   ],
   "source": [
    "# I took inspiration from the NumPy Array Reshaping section.\n",
    "# Reshape From 1-D to 2-D\n",
    "arr = np.array([0, 1, 1, 2, 3, 5])\n",
    "new_arr = arr.reshape(3,2)\n",
    "print(new_arr)\n",
    "\n",
    "print()\n",
    "\n",
    "arr = np.array([2, 4, 8, 16, 32, 64, 128, 256, 512, 1024])\n",
    "new_arr = arr.reshape(2,5)\n",
    "print(new_arr)\n",
    "\n",
    "print()\n",
    "print()\n",
    "print()\n",
    "\n",
    "# Reshape from 1-D to 3-D\n",
    "arr = np.array([1,2,3,4,5,6,7,8])\n",
    "new_arr = arr.reshape(2, 2, 2)\n",
    "print(new_arr)\n",
    "\n",
    "print()\n",
    "\n",
    "arr = np.array([11, 22, 33, 44, 55, 66, 77, 88])\n",
    "new_arr = arr.reshape(2, 2, 2)\n",
    "print(new_arr)\n",
    "\n",
    "print()\n",
    "print()\n",
    "print()\n",
    "\n",
    "# Can We Reshape Into any Shape?\n",
    "arr = np.array([[1, 2, 6, 24], [120, 720, 5040, 40320], [362880, 3628800, 60, 70]])\n",
    "new_arr = arr.reshape(2, 3, 2)\n",
    "print(new_arr)\n",
    "\n",
    "print()\n",
    "print()\n",
    "print()\n",
    "\n",
    "# Returns Copy or View?\n",
    "arr = np.array([[1, 0, 0], [0, 0, 1]])\n",
    "new_arr = arr.reshape(6)\n",
    "print(new_arr.base)\n",
    "\n",
    "print()\n",
    "print()\n",
    "print()\n",
    "\n",
    "# Unknown Dimension\n",
    "arr = np.array([[1, 2, 3],[3, 2, 1], [1, 3, 2], [3,1,2]])\n",
    "new_arr = arr.reshape(3,2, -1)\n",
    "print(new_arr)\n",
    "\n",
    "print()\n",
    "print()\n",
    "print()\n",
    "\n",
    "#Flattening the Array\n",
    "arr = np.array([[0,1,1], [2,3,5]])\n",
    "new_arr = arr.reshape(-1)\n",
    "print(new_arr)"
   ]
  },
  {
   "cell_type": "markdown",
   "id": "c90148dc-cac4-4322-86ff-5b112bae306f",
   "metadata": {},
   "source": [
    "In 2-3 sentences, describe how your function took inspiration from a section.\\\n",
    "\\\n",
    "*For my example, `make_multi_dimensional_array`, I would talk about the **NumPy Creating Arrays** section and how I took inspiration from the example **Higher Dimensional Arrays**.*"
   ]
  },
  {
   "cell_type": "code",
   "execution_count": 172,
   "id": "fe11ac2d-dcdb-4e51-9460-c3cc1be48bef",
   "metadata": {},
   "outputs": [],
   "source": [
    "# For my example, transpose_matrix, I took inspiration from the the NumPy Array Reshaping section.\n",
    "# Particularly, I took inspiration from the Can We Reshape Into any Shape? example.\n",
    "# It mentioned how an array could be changed into any shape with the reshape method, as long as the total number of elements stayed the same."
   ]
  },
  {
   "cell_type": "markdown",
   "id": "8a834fd4-ef1b-4464-a07a-76e08a1c81c8",
   "metadata": {},
   "source": [
    "# 2 Brianna's Module\n",
    "During lecture we created and worked with a module called `even_sum.py`. Import that module here. "
   ]
  },
  {
   "cell_type": "code",
   "execution_count": 173,
   "id": "66e2a829-e478-4c97-8412-846cd93161f8",
   "metadata": {},
   "outputs": [],
   "source": [
    "import even_sum"
   ]
  },
  {
   "cell_type": "markdown",
   "id": "210ee2c2-9b81-4ea4-bbe7-2d1fa94d646e",
   "metadata": {},
   "source": [
    "Now that you have imported the module. Call the module and the first function with your own list of numbers. "
   ]
  },
  {
   "cell_type": "code",
   "execution_count": 174,
   "id": "89ad196d-5948-4e20-899a-d31eebdc4f2a",
   "metadata": {},
   "outputs": [
    {
     "data": {
      "text/plain": [
       "12"
      ]
     },
     "execution_count": 174,
     "metadata": {},
     "output_type": "execute_result"
    }
   ],
   "source": [
    "list1 = [0, 1, 2, 3, 4, 5, 6, 7]\n",
    "even_sum.sum_even_numbers(list1)"
   ]
  },
  {
   "cell_type": "markdown",
   "id": "110d3cb8-b809-467b-9447-57810e4e3853",
   "metadata": {},
   "source": [
    "I have provided you a separate module called `example.py`. Import that module here."
   ]
  },
  {
   "cell_type": "code",
   "execution_count": 175,
   "id": "092eb2b9-dd15-4fdf-a7a2-ad32cd22ed88",
   "metadata": {},
   "outputs": [],
   "source": [
    "import example"
   ]
  },
  {
   "cell_type": "markdown",
   "id": "a6922f89-01e7-41af-82e2-4236daa103b1",
   "metadata": {},
   "source": [
    "With the following variables, use my module to show which of the rockets escape!"
   ]
  },
  {
   "cell_type": "code",
   "execution_count": 176,
   "id": "6b2e8b39-8441-469a-a128-19b04b8c8a2f",
   "metadata": {},
   "outputs": [],
   "source": [
    "rocket_velocities = np.array([\n",
    "    [1000, 5000, 8000, 12000],  # Rocket 1's velocity at different times\n",
    "    [2000, 6000, 9000, 10000],  # Rocket 2\n",
    "    [3000, 3100, 3200, 3300]    # Rocket 3\n",
    "])\n",
    "\n",
    "mass_of_planet = 5.972e24 # kilograms\n",
    "radius_of_planet = 6.371e6 # meters"
   ]
  },
  {
   "cell_type": "code",
   "execution_count": 177,
   "id": "05196d65-9e31-4cec-ad01-9f9cebe00046",
   "metadata": {},
   "outputs": [
    {
     "data": {
      "text/plain": [
       "['Rocket left the planet!',\n",
       " 'Rocket is orbiting around the planet.',\n",
       " 'Rocket crashes back into the planet!']"
      ]
     },
     "execution_count": 177,
     "metadata": {},
     "output_type": "execute_result"
    }
   ],
   "source": [
    "example.rocket_launch(rocket_velocities, mass_of_planet, radius_of_planet)"
   ]
  },
  {
   "cell_type": "markdown",
   "id": "9ab3de38-dbd9-438f-a587-67e8777c9c93",
   "metadata": {},
   "source": [
    "In 2-3 sentences describe how this code follows \"good coding practices\" and where there is room for improvement."
   ]
  },
  {
   "cell_type": "code",
   "execution_count": 178,
   "id": "94d49892-e1c0-4e6a-b05d-f9ddf3de4b44",
   "metadata": {},
   "outputs": [],
   "source": [
    "# The code follows good coding practices by having descriptive function names and comments describing each one.\n",
    "# The variables are all descriptive yet succinct, and the function even printed the answers for me.\n",
    "# I literally have no idea what could be improved."
   ]
  },
  {
   "cell_type": "markdown",
   "id": "2dce5617-a86a-4327-aa99-f29548f3b92c",
   "metadata": {},
   "source": [
    "# 3 Your Turn!\n",
    "Now its your turn to make a module! Choose a topic from a class (could be physics, computer science, nuclear engineering, biology, astronomy, math, or an topic that interests you!) and build a module around it! Look at my module called `example.py` and base your structure around it. Your module NEEDS to include the following.\n",
    "\n",
    "Overall:\n",
    "1) Your module needs to use at least one NumPy function: https://numpy.org/devdocs/reference/routines.math.html\n",
    "2) Your module needs to contain a multi-dimensional array: https://numpy.org/devdocs/reference/arrays.ndarray.html \n",
    "3) Your module needs **at least** three functions that follow good coding practices.\n",
    "4) Inside your function, include comments. Don't forget to describe what the function is doing and what the inputs and outputs are.\n",
    "5) Your module needs either a `for` loop or `while` loop.\n",
    "6) Your module needs an `if`, `elif`, and `else` statement.\n",
    "7) Your module needs at least two assignment variables (`+=`, `*=`, etc).\n",
    "8) Creativity. *If it looks like you plugged this whole thing into ChatGPT, I will take off points. You can use ChatGPT to help you code, but you can't use it to just do your homework for you. That's no fun :(*\n",
    "\n",
    "In 2-3 sentences, describe the topic of your module and its capabilities. "
   ]
  },
  {
   "cell_type": "code",
   "execution_count": 179,
   "id": "0db7310e-b286-4ce7-aa0b-c211e243b7d6",
   "metadata": {},
   "outputs": [],
   "source": [
    "# My module is meant to solve a specific problem that popped up in my mechanics class.\n",
    "# The problem is as follows: when a ball attached to a rope is spun around vertically, will the ball make a full rotation?\n",
    "# The speed at the top and mass are given."
   ]
  },
  {
   "cell_type": "markdown",
   "id": "f9ec7fbd-1d6d-4c08-8528-e9cdaa7e3f6b",
   "metadata": {},
   "source": [
    "In 2-3 sentences, answer the following. What was the most challenging part of building this module? What did you learn in the process that you can apply to future coding assignments?"
   ]
  },
  {
   "cell_type": "code",
   "execution_count": 190,
   "id": "19898c20-2adb-4011-b95e-1da864f7801a",
   "metadata": {},
   "outputs": [],
   "source": [
    "# The most challenging part about writing my code was figuring out how to fulfill all the requirements.\n",
    "# Particularly troublesome was finding where two use two assignment variables.\n",
    "# I learned that modules need to be within a folder in order to be accessed."
   ]
  },
  {
   "cell_type": "markdown",
   "id": "85e943ab-1036-46bc-b9fb-da4ab1890816",
   "metadata": {},
   "source": [
    "Once your module is complete, import it here."
   ]
  },
  {
   "cell_type": "code",
   "execution_count": 203,
   "id": "fb9821b1-3cc0-4999-97eb-441571bbd5e1",
   "metadata": {},
   "outputs": [],
   "source": [
    "import circular_motion_dynamics"
   ]
  },
  {
   "cell_type": "markdown",
   "id": "12cccedd-e26a-43c1-95a1-c8964f8f887e",
   "metadata": {},
   "source": [
    "Call each of your functions in the cell below. Make sure to show the outputs!"
   ]
  },
  {
   "cell_type": "code",
   "execution_count": 205,
   "id": "b63d3d1f-64bd-4dc7-b20f-c562d09c7c92",
   "metadata": {},
   "outputs": [
    {
     "ename": "UnboundLocalError",
     "evalue": "cannot access local variable 'centripetal_acceleration' where it is not associated with a value",
     "output_type": "error",
     "traceback": [
      "\u001b[0;31m---------------------------------------------------------------------------\u001b[0m",
      "\u001b[0;31mUnboundLocalError\u001b[0m                         Traceback (most recent call last)",
      "Cell \u001b[0;32mIn[205], line 4\u001b[0m\n\u001b[1;32m      1\u001b[0m speed_and_mass_arr \u001b[38;5;241m=\u001b[39m [[\u001b[38;5;241m100.0\u001b[39m, \u001b[38;5;241m1.0\u001b[39m], [\u001b[38;5;241m1.0\u001b[39m, \u001b[38;5;241m100.0\u001b[39m], [\u001b[38;5;241m10\u001b[39m, \u001b[38;5;241m9.90285312423\u001b[39m]]\n\u001b[1;32m      2\u001b[0m r_length \u001b[38;5;241m=\u001b[39m \u001b[38;5;241m10.0\u001b[39m\n\u001b[0;32m----> 4\u001b[0m \u001b[38;5;28mprint\u001b[39m(circular_motion_dynamics\u001b[38;5;241m.\u001b[39mwill_complete_a_rotation(speed_and_mass_arr, r_length,\u001b[38;5;241m5\u001b[39m))\n",
      "File \u001b[0;32m~/ulab/ulab_santiago/homework7/circular_motion_dynamics.py:48\u001b[0m, in \u001b[0;36mwill_complete_a_rotation\u001b[0;34m(speed_array, mass_array, rope_length)\u001b[0m\n\u001b[1;32m     46\u001b[0m '''\n\u001b[1;32m     47\u001b[0m for i in range(len(speed_array)):\n\u001b[0;32m---> 48\u001b[0m     centripetal_acceleration = centripetal_acceleration(mass[i], rope_length)\n\u001b[1;32m     49\u001b[0m     tension = find_tension(centripetal_acceleration, mass[i])\n\u001b[1;32m     50\u001b[0m     if(tension < 0):\n",
      "\u001b[0;31mUnboundLocalError\u001b[0m: cannot access local variable 'centripetal_acceleration' where it is not associated with a value"
     ]
    }
   ],
   "source": [
    "speed_and_mass_arr = [[100.0, 1.0], [1.0, 100.0], [10, 9.90285312423]]\n",
    "r_length = 10.0\n",
    "\n",
    "print(circular_motion_dynamics.will_complete_a_rotation(speed_and_mass_arr, r_length))"
   ]
  },
  {
   "cell_type": "markdown",
   "id": "8cf33b19-9bca-484e-8129-d8a4896a1bfa",
   "metadata": {},
   "source": [
    "# 4 Proper Submission\n",
    "To recieve full credit for this assignment make sure you do the following:\n",
    "\n",
    "1) Copy this homework assignment from the `ulab_2024` repository into **YOUR** local `homework7` branch. It will contain this notebook and an additional file called `example.py`. \n",
    "   \n",
    "2) Follow the tasks. Make sure to run all the cells so that **all** output is visible. You will get points taken off if your ouputs are not shown!\n",
    "\n",
    "3) Add/commit/push this notebook and **ANY** modules (so you should have `example.py` and your module) used in this homework assignment to your remote `homework7` branch. Make sure to have NOTHING else in your branch (i.e. no previous homeworks or lecture notes).\n",
    "\n",
    "4) Do the following:\n",
    "- Take a screenshot of moving **into or out** of your `homework7` brach, call it `hw7_branch`.\n",
    "- Take a screenshot of calling `ls` in your `homework7` branch, it should only contain items relevent to homework 7, call it `hw7_ls`.\n",
    "- Take a screenshot of adding this assignment to your local `homework7` branch, call it `hw7_add`.\n",
    "- Take a screenshot of committing this assignment to your local `homework7` branch, call it `hw7_commit`.\n",
    "- Take a screenshot of pushing this assignment to your remote `homework7` branch, call it `hw7_push`. \n",
    "\n",
    "6) Include these screenshots in your `homework7` branch. Upload your `homework7` branch to Gradescope!"
   ]
  }
 ],
 "metadata": {
  "kernelspec": {
   "display_name": "Python 3 (ipykernel)",
   "language": "python",
   "name": "python3"
  },
  "language_info": {
   "codemirror_mode": {
    "name": "ipython",
    "version": 3
   },
   "file_extension": ".py",
   "mimetype": "text/x-python",
   "name": "python",
   "nbconvert_exporter": "python",
   "pygments_lexer": "ipython3",
   "version": "3.12.4"
  }
 },
 "nbformat": 4,
 "nbformat_minor": 5
}
