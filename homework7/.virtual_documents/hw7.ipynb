





import numpy as np





# Your code here





# Your code here





# Your code here





# Your code here





# Your code here





# Your code here





# Your code here





# Your code here





# Your comment here








# Your code here





# Your code here





# Your comment here





# Your code here





# Your code here





# Your code here





rocket_velocities = np.array([
    [1000, 5000, 8000, 12000],  # Rocket 1's velocity at different times
    [2000, 6000, 9000, 10000],  # Rocket 2
    [3000, 3100, 3200, 3300]    # Rocket 3
])

mass_of_planet = 5.972e24 # kilograms
radius_of_planet = 6.371e6 # meters


# Your code here





# Your comments here





# Your comment here





# Your comment here





# Your code here





# Your code here



