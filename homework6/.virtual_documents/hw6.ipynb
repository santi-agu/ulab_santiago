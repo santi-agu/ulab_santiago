





def slice_and_stride(list1):
    # Returns first 5 elements of a list, the last 5 elements of a list, every other element, and the list in reverse order.
    first_five = list1[:5:]
    last_five = list1[len(list1) - 5:len(list1):]
    every_other = list1[1::2]
    reversed_list = list1[::-1]
    
    return f"First five elements: {first_five}. Last five elements: {last_five}. Every other element: {every_other}. Reversed list: {reversed_list}"

list1 = [1, 2, 3, 4, 5, 6, 7, 8, 9, 10, 11, 12, 13, 14, 15, 16, 17, 18, 19, 20]

print(f"Input: {list1}")
print(f"Output: {slice_and_stride(list1)}")
print()

list1 = [1,4,9,16,25,36,49,64,81,100]
print(f"Input: {list1}")
print(f"Output: {slice_and_stride(list1)}")
print()

list1 = [0,1,1,2,3,5,8,13,21,34,55,89]
print(f"Input: {list1}")
print(f"Output: {slice_and_stride(list1)}")





def square_and_cube(list1):
    #Input is a list. Outputs two lists, the first of which contains the squares of all numbers in the original list and the second the cubes of all the even numbers.
    square_list = []
    cube_list = []
    for element in list1:
        square_list.append(element ** 2)
        
        if element % 2 == 0:
            cube_list.append(element ** 3)
        
    return f"{square_list} and {cube_list}"

list1 = [1, 2, 3, 4, 5, 6]
print(square_and_cube(list1))
print()

list1 = [-10,-9,-8,7,3,2,4]
print(square_and_cube(list1))
print()

list1 = [0,1,1,2,3,5,8,13,21,34,55]
print(square_and_cube(list1))





# A dictionary that contains some data about the planets in our solar system
planet_data = {
    "Mercury": 0.39, 
    "Venus": 0.72,
    "Earth": 1.00, # distance from the Sun in AU
    "Mars": 1.52,
    "Jupiter": 5.20,
    "Saturn": 9.58,
    "Uranus": 19.22,
    "Neptune": 30.05
}   

print(planet_data) # print the dictonary





def dictionary_printer(dictionary):
    #Prints every planet and their respective distance from the sun.
    for planet, distance in dictionary.items():
        print(f"Planet: {planet}. Distance from the Sun: {distance} AU.")

dictionary_printer(planet_data)





def at_least_5_AU_printer(dictionary):
    #Given a dictionary about planets, prints every planet that is at a distance greater than 5 AU from the sun.
    index = 0
    values_list = list(dictionary.values())
    
    while(index < len(values_list)):
        if values_list[index] >= 5.0:
            print(dictionary[values_list[index]])
        index += 1  

at_least_5_AU_printer(planet_data)








def magnitude_to_brightness(magnitude_list):
    #Converts the magnitude of each star to its brightness
    brightness_list = []
    brightness_sum = 0
    
    for magnitude in magnitude_list:
        brightness = 10 ** (-1 * magnitude / 2.5)
        brightness_list.append(brightness)
        
        brightness_sum += brightness
    
    return [brightness_sum, brightness_list]
    
magnitudes = [12.5, 13.2, 14.8, 19.1, 21.0, 18.5, 15.3, 10.5, 23.0]
print(f"Total brightness of the stars: {magnitude_to_brightness(magnitudes)[0]}")
print(f"List of brightnesses: {magnitude_to_brightness(magnitudes)[1]}")





def observation_time(magnitude_list):
    #Calculates the time needed to observe a star, returns the total time needed and a list of all the times.
    brightness_list = magnitude_to_brightness(magnitude_list)[1]
    
    total_time = 0
    time_list = []
    for i in range(len(magnitude_list)):
        if magnitude_list[i] <= 20:
            time = 1 / brightness_list[i]
            time_list.append(time)
            total_time += time
            
    
    return [total_time, time_list]

magnitudes = [12.5, 13.2, 14.8, 19.1, 21.0, 18.5, 15.3, 10.5, 23.0]
print(f"Total observation time for all observable stars: {observation_time(magnitudes)[0]}")
print(f"List of times for each observable star: {observation_time(magnitudes)[1]}")





def max_stars_observed(magnitude_list, time_limit = 500):
#Counts the maximum number of stars that can be observed in a given time period. I sorted the list of times in order to make sure that (yes, I looked up the function on the internet).
    time_list = observation_time(magnitude_list)[1]
    time_list.sort()

    elapsed_time = 0
    counted_stars = 0
    
    while(time_list[counted_stars] + elapsed_time < time_limit):
        #observation_time function already excludes stars with a magnitude > 20, so no need to check condition again
        elapsed_time += time_list[counted_stars]
        counted_stars += 1

    return [counted_stars, elapsed_time]

magnitudes = [12.5, 13.2, 14.8, 19.1, 21.0, 18.5, 15.3, 10.5, 23.0]
print(f"Number of stars that can be observed within 500 seconds: {max_stars_observed(magnitudes)[0]}")
print(f"Time elapsed: {max_stars_observed(magnitudes)[1]}")





magnitudes = [0, 3.8, 10.3, 13.0, 20.0, 33.2, 2.6, 11.7, 12.5]
time_limit = 3600

brightness_values = magnitude_to_brightness(magnitudes)
print(brightness_values)

time_values = observation_time(magnitudes)
print(time_values)

counting_stars = max_stars_observed(magnitudes, time_limit)
print(counting_stars)





#The first error I got is called invalid decimal literal. This happened because the 2 and the a were not multiplied using proper syntax.
#One thing that is wrong with the code is that c is a string, which can't be used to do arithmetic operations. 
#Secondly, the function is not labelled with a descriptive name.
#Finally, the while loop would continue indefinitely as long as a is not zero.
def quadratic_solver(a, b, c):
    #Solves the quadratic equation given by the coefficients a, b, and c, checking if it gives a real solution
    bottom = 2 * a
    
    if bottom == 0:
        return "Not a quadratic equation."
    
    if (b**2 - 4 * a * c >= 0):
        
        pos_answer = (-b + (b**2 - 4 * a * c)**(1/2)) / bottom 
        neg_answer = (-b - (b**2 - 4 * a * c)**(1/2)) / bottom
    
        return neg_answer, pos_answer
    
    else:
        return "No real solution"
        
print(quadratic_solver(2, -5, 3))
print(quadratic_solver(1,2,0))






