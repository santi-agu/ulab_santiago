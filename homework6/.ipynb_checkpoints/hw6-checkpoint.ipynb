{
 "cells": [
  {
   "cell_type": "markdown",
   "id": "21a1f0d2-d75c-4443-b816-1d1db3760454",
   "metadata": {},
   "source": [
    "# HW 6 - Iterables\n",
    "ULAB - Physics and Astronomy Division \\\n",
    "Due **Wednesday, October 30th, 2024 at 11:59pm** on Gradescope\n",
    "\n",
    "### REMINDER: Once you are done with this homework, make sure to include a screenshot of you pushing this notebook inside of your homework6 branch. Make sure to include this screenshot in your branch before submitting to Gradescope!\n",
    "\n",
    "### If there is no screenshot, then you will recieve a zero! \n",
    "\n",
    "General Tip (so you don't get silly points taken off):\n",
    "- Make sure **each function** follows good coding practices (i.e. a comment, detailed names, different steps on each line, etc)."
   ]
  },
  {
   "cell_type": "markdown",
   "id": "8dc7e46b-1e8e-486c-a2e9-d615c687028b",
   "metadata": {},
   "source": [
    "# 1 Lists\n",
    "\n",
    "## 1.1 List Slicing and Striding\n",
    "Write a **function** that takes in a list of integers and returns:\n",
    "\n",
    "- the first 5 elements\n",
    "- the last 5 elements\n",
    "- every 2nd element in the list\n",
    "- the list in reverse order.\n",
    "\n",
    "Use the test case below, along with two other ones (that you make-up):\n",
    "\n",
    "```\n",
    "list = [1, 2, 3, 4, 5, 6, 7, 8, 9, 10, 11, 12, 14, 15, 16, 17, 18, 19, 20]\n",
    "```"
   ]
  },
  {
   "cell_type": "code",
   "execution_count": 1,
   "id": "08dabd73-3dbc-4aab-843a-d4b81102835d",
   "metadata": {},
   "outputs": [
    {
     "name": "stdout",
     "output_type": "stream",
     "text": [
      "Input: [1, 2, 3, 4, 5, 6, 7, 8, 9, 10, 11, 12, 13, 14, 15, 16, 17, 18, 19, 20]\n",
      "Output: First five elements: [1, 2, 3, 4, 5]. Last five elements: [16, 17, 18, 19, 20]. Every other element: [2, 4, 6, 8, 10, 12, 14, 16, 18, 20]. Reversed list: [20, 19, 18, 17, 16, 15, 14, 13, 12, 11, 10, 9, 8, 7, 6, 5, 4, 3, 2, 1]\n",
      "\n",
      "Input: [1, 4, 9, 16, 25, 36, 49, 64, 81, 100]\n",
      "Output: First five elements: [1, 4, 9, 16, 25]. Last five elements: [36, 49, 64, 81, 100]. Every other element: [4, 16, 36, 64, 100]. Reversed list: [100, 81, 64, 49, 36, 25, 16, 9, 4, 1]\n",
      "\n",
      "Input: [0, 1, 1, 2, 3, 5, 8, 13, 21, 34, 55, 89]\n",
      "Output: First five elements: [0, 1, 1, 2, 3]. Last five elements: [13, 21, 34, 55, 89]. Every other element: [1, 2, 5, 13, 34, 89]. Reversed list: [89, 55, 34, 21, 13, 8, 5, 3, 2, 1, 1, 0]\n"
     ]
    }
   ],
   "source": [
    "def slice_and_stride(list1):\n",
    "    # Returns first 5 elements of a list, the last 5 elements of a list, every other element, and the list in reverse order.\n",
    "    first_five = list1[:5:]\n",
    "    last_five = list1[len(list1) - 5:len(list1):]\n",
    "    every_other = list1[1::2]\n",
    "    reversed_list = list1[::-1]\n",
    "    \n",
    "    return f\"First five elements: {first_five}. Last five elements: {last_five}. Every other element: {every_other}. Reversed list: {reversed_list}\"\n",
    "\n",
    "list1 = [1, 2, 3, 4, 5, 6, 7, 8, 9, 10, 11, 12, 13, 14, 15, 16, 17, 18, 19, 20]\n",
    "\n",
    "print(f\"Input: {list1}\")\n",
    "print(f\"Output: {slice_and_stride(list1)}\")\n",
    "print()\n",
    "\n",
    "list1 = [1,4,9,16,25,36,49,64,81,100]\n",
    "print(f\"Input: {list1}\")\n",
    "print(f\"Output: {slice_and_stride(list1)}\")\n",
    "print()\n",
    "\n",
    "list1 = [0,1,1,2,3,5,8,13,21,34,55,89]\n",
    "print(f\"Input: {list1}\")\n",
    "print(f\"Output: {slice_and_stride(list1)}\")"
   ]
  },
  {
   "cell_type": "markdown",
   "id": "92c77920-20fc-455e-bf52-10b5a518ed2d",
   "metadata": {},
   "source": [
    "## 1.2 Iterating Over Lists with For Loops\n",
    "Write a **function** that takes in a list, with a **for** loop to return: \n",
    "- the square of each number in the list\n",
    "- the cube of each even number in the list\n",
    "\n",
    "Use the test case below, along with two other ones (that you make-up):\n",
    "\n",
    "```\n",
    "list = [1, 2, 3, 4, 5, 6]\n",
    "```"
   ]
  },
  {
   "cell_type": "code",
   "execution_count": 9,
   "id": "5054c807-a247-4159-9ce1-43020bcc3000",
   "metadata": {},
   "outputs": [
    {
     "name": "stdout",
     "output_type": "stream",
     "text": [
      "[1, 4, 9, 16, 25, 36] and [8, 64, 216]\n",
      "\n",
      "[100, 81, 64, 49, 9, 4, 16] and [-1000, -512, 8, 64]\n",
      "\n",
      "[0, 1, 1, 4, 9, 25, 64, 169, 441, 1156, 3025] and [0, 8, 512, 39304]\n"
     ]
    }
   ],
   "source": [
    "def square_and_cube(list1):\n",
    "    #Input is a list. Outputs two lists, the first of which contains the squares of all numbers in the original list and the second the cubes all of the even numbers.\n",
    "    square_list = []\n",
    "    cube_list = []\n",
    "    for element in list1:\n",
    "        square_list.append(element ** 2)\n",
    "        \n",
    "        if element % 2 == 0:\n",
    "            cube_list.append(element ** 3)\n",
    "        \n",
    "    return f\"{square_list} and {cube_list}\"\n",
    "\n",
    "list1 = [1, 2, 3, 4, 5, 6]\n",
    "print(square_and_cube(list1))\n",
    "print()\n",
    "\n",
    "list1 = [-10,-9,-8,7,3,2,4]\n",
    "print(square_and_cube(list1))\n",
    "print()\n",
    "\n",
    "list1 = [0,1,1,2,3,5,8,13,21,34,55]\n",
    "print(square_and_cube(list1))"
   ]
  },
  {
   "cell_type": "markdown",
   "id": "e2e075da-c004-400d-b796-5435e096816d",
   "metadata": {},
   "source": [
    "# 2 Dictionaries\n",
    "We have not fully covered **dictionaries** in class, but a **dictionary** is a collection of key-value pairs. Each key is unique and is associated with a specific value. Like a real dictionary! \n",
    "\n",
    "You can create a dictionary by placing key-value pairs inside of curly brackets `{}` with a `:` separating the key from the value. \n",
    "\n",
    "Run the cell below for an example:"
   ]
  },
  {
   "cell_type": "code",
   "execution_count": 3,
   "id": "dbdb0f41-4f57-4524-ab51-ff1fc502bdfc",
   "metadata": {},
   "outputs": [
    {
     "name": "stdout",
     "output_type": "stream",
     "text": [
      "{'Mercury': 0.39, 'Venus': 0.72, 'Earth': 1.0, 'Mars': 1.52, 'Jupiter': 5.2, 'Saturn': 9.58, 'Uranus': 19.22, 'Neptune': 30.05}\n"
     ]
    }
   ],
   "source": [
    "# A dictionary that contains some data about the planets in our solar system\n",
    "planet_data = {\n",
    "    \"Mercury\": 0.39, \n",
    "    \"Venus\": 0.72,\n",
    "    \"Earth\": 1.00, # distance from the Sun in AU\n",
    "    \"Mars\": 1.52,\n",
    "    \"Jupiter\": 5.20,\n",
    "    \"Saturn\": 9.58,\n",
    "    \"Uranus\": 19.22,\n",
    "    \"Neptune\": 30.05\n",
    "}   \n",
    "\n",
    "print(planet_data) # print the dictonary"
   ]
  },
  {
   "cell_type": "markdown",
   "id": "886c93f4-0027-4969-ba67-cc12eca04c9c",
   "metadata": {},
   "source": [
    "## 2.1 Looping through a dictionary\n",
    "Write a function that takes in the `planet_data` dictionary and uses a `for` loop to print the names of each of the planets and its distance from the sun."
   ]
  },
  {
   "cell_type": "code",
   "execution_count": 4,
   "id": "a3ab065a-42f5-4aa0-8e0f-38e87c583464",
   "metadata": {},
   "outputs": [
    {
     "name": "stdout",
     "output_type": "stream",
     "text": [
      "Planet: Mercury. Distance from the Sun: 0.39 AU.\n",
      "Planet: Venus. Distance from the Sun: 0.72 AU.\n",
      "Planet: Earth. Distance from the Sun: 1.0 AU.\n",
      "Planet: Mars. Distance from the Sun: 1.52 AU.\n",
      "Planet: Jupiter. Distance from the Sun: 5.2 AU.\n",
      "Planet: Saturn. Distance from the Sun: 9.58 AU.\n",
      "Planet: Uranus. Distance from the Sun: 19.22 AU.\n",
      "Planet: Neptune. Distance from the Sun: 30.05 AU.\n"
     ]
    }
   ],
   "source": [
    "def dictionary_printer(dictionary):\n",
    "    #Prints every planet and their respective distance from the sun.\n",
    "    for planet, distance in dictionary.items():\n",
    "        print(f\"Planet: {planet}. Distance from the Sun: {distance} AU.\")\n",
    "\n",
    "dictionary_printer(planet_data)"
   ]
  },
  {
   "cell_type": "markdown",
   "id": "2b38b6fb-ce68-4f20-a8a1-ba241e8db53e",
   "metadata": {},
   "source": [
    "## 2.2 Dictionaries and Conditionals\n",
    "Write a function that uses a while loop to print all the planets that are a minimum distance of 5 AU from the Sun. "
   ]
  },
  {
   "cell_type": "code",
   "execution_count": 8,
   "id": "6e07cf13-efba-4a75-ad75-0428dc31108d",
   "metadata": {
    "editable": true,
    "slideshow": {
     "slide_type": ""
    },
    "tags": []
   },
   "outputs": [
    {
     "name": "stdout",
     "output_type": "stream",
     "text": [
      "Jupiter\n",
      "Saturn\n",
      "Uranus\n",
      "Neptune\n"
     ]
    }
   ],
   "source": [
    "def at_least_5_AU_printer(dictionary):\n",
    "    #Given a dictionary about planets, prints every planet that is at a distance greater than 5 AU from the sun.\n",
    "    index = 0\n",
    "    keys_list = list(dictionary.keys())\n",
    "    \n",
    "    while(index < len(keys_list)):\n",
    "        if dictionary[keys_list[index]] >= 5.0:\n",
    "            print(keys_list[index])\n",
    "        index += 1  \n",
    "\n",
    "at_least_5_AU_printer(planet_data)"
   ]
  },
  {
   "cell_type": "markdown",
   "id": "5e1ba0c0-5dd9-44e8-895c-73a36d614949",
   "metadata": {},
   "source": [
    "# 3 Observing Stars in a Cluster\n",
    "Your goal is to calculate the total brightness of a group of stars in a star cluster and estimate how long it would take for a telescope to observer each star, depending on their brightness (magnitude). Here is some background information:\n",
    "- The brightness of a star, from a telescope, is measured by its **apparent magnitude**, a LOWER magnitude means a brighter star. A HIGHER magnitude means a fainter star. So a 4th magnitude star is much brighter than a 17th magnitude star.\n",
    "- To convert magnitude into brightness, use the following formula\n",
    "$$\n",
    "\\text{Brightness} = 10^{-\\frac{\\text{magnitude}}{2.5}}\n",
    "$$\n",
    "\n",
    "Use this list of magnitudes and time limit:\n",
    "\n",
    "```\n",
    "magnitudes = [12.5, 13.2, 14.8, 19.1, 21.0, 18.5, 15.3, 10.5, 23.0]\n",
    "time_limit = 500\n",
    "```\n",
    "\n",
    "Expected outcome (your solutions with be the answers to the ???):\n",
    "- Total brightness of the stars: ???\n",
    "- Total observation time for all observable stars: ???\n",
    "- Number of stars that can be observed within 500 seconds: ???"
   ]
  },
  {
   "cell_type": "markdown",
   "id": "336785a7-71bf-434d-982c-dd72dd29cf71",
   "metadata": {},
   "source": [
    "## 3.1 Calculate Brightness\n",
    "1) Write a **function** which inputs a list of star magnitudes (brightnesses).\n",
    "2) Inside your function, use a `for` loop to calculate (with the given formula) the brightness of each star.\n",
    "3) Inside your function, use a `for` loop to sum up the total brightness of all the stars.\n",
    "5) Have your function return the **total brightness** of all the stars and a **list of the brightnesses** of the stars.\n",
    "6) Test out your function with the **given** magnitude values."
   ]
  },
  {
   "cell_type": "code",
   "execution_count": 10,
   "id": "ccc331f4-c029-4a82-810b-4a78d0fa1a2a",
   "metadata": {},
   "outputs": [
    {
     "name": "stdout",
     "output_type": "stream",
     "text": [
      "Total brightness of the stars: 8.037198248279666e-05\n",
      "List of brightnesses: [1e-05, 5.248074602497734e-06, 1.2022644346174132e-06, 2.29086765276777e-08, 3.981071705534969e-09, 3.981071705534969e-08, 7.585775750291836e-07, 6.309573444801929e-05, 6.309573444801942e-10]\n"
     ]
    }
   ],
   "source": [
    "def magnitude_to_brightness(magnitude_list):\n",
    "    #Converts the magnitude of each star to its brightness\n",
    "    brightness_list = []\n",
    "    brightness_sum = 0\n",
    "    \n",
    "    for magnitude in magnitude_list:\n",
    "        brightness = 10 ** (-1 * magnitude / 2.5)\n",
    "        brightness_list.append(brightness)\n",
    "        \n",
    "        brightness_sum += brightness\n",
    "    \n",
    "    return [brightness_sum, brightness_list]\n",
    "    \n",
    "magnitudes = [12.5, 13.2, 14.8, 19.1, 21.0, 18.5, 15.3, 10.5, 23.0]\n",
    "print(f\"Total brightness of the stars: {magnitude_to_brightness(magnitudes)[0]}\")\n",
    "print(f\"List of brightnesses: {magnitude_to_brightness(magnitudes)[1]}\")"
   ]
  },
  {
   "cell_type": "markdown",
   "id": "b6f85995-f070-4c29-b5f4-7c90d25b824c",
   "metadata": {
    "editable": false,
    "slideshow": {
     "slide_type": ""
    },
    "tags": []
   },
   "source": [
    "## 3.2 Observation Time\n",
    "1) Write a **function** which inputs a list of star magnitudes (brightnesses).\n",
    "2) Inside your function, use a `for` loop to calculate the time to observe each star.\n",
    "- You can just assume each star's observation time is inversely proportional to its brightness with the following formula:\n",
    "\n",
    "$$\n",
    "\\text{Observation Time (in seconds)} \\propto \\frac{1}{\\text{Brightness}} \n",
    "$$\n",
    "\n",
    "3) Inside you function, write a `condition` that ignores stars that have a magnitude greater than 20 (very very faint stars).\n",
    "4) Have your function return the **total observation time** (ignoring >20 magnitudes) and a **list of the times** it would take to observe each individual star.\n",
    "5) Test out your function with the **given** magnitude values."
   ]
  },
  {
   "cell_type": "code",
   "execution_count": 11,
   "id": "044d17cf-82a8-44b6-8958-447632f713f6",
   "metadata": {},
   "outputs": [
    {
     "name": "stdout",
     "output_type": "stream",
     "text": [
      "Total observation time for all observable stars: 71226863.0524925\n",
      "List of times for each observable star: [99999.99999999999, 190546.07179632442, 831763.7711026708, 43651583.22401666, 25118864.315095823, 1318256.7385564074, 15848.931924611143]\n"
     ]
    }
   ],
   "source": [
    "def observation_time(magnitude_list):\n",
    "    #Calculates the time needed to observe a star, returns the total time needed and a list of all the times.\n",
    "    brightness_list = magnitude_to_brightness(magnitude_list)[1]\n",
    "    \n",
    "    total_time = 0\n",
    "    time_list = []\n",
    "    for i in range(len(magnitude_list)):\n",
    "        if magnitude_list[i] <= 20:\n",
    "            time = 1 / brightness_list[i]\n",
    "            time_list.append(time)\n",
    "            total_time += time\n",
    "            \n",
    "    \n",
    "    return [total_time, time_list]\n",
    "\n",
    "magnitudes = [12.5, 13.2, 14.8, 19.1, 21.0, 18.5, 15.3, 10.5, 23.0]\n",
    "print(f\"Total observation time for all observable stars: {observation_time(magnitudes)[0]}\")\n",
    "print(f\"List of times for each observable star: {observation_time(magnitudes)[1]}\")"
   ]
  },
  {
   "cell_type": "markdown",
   "id": "102d3c15-0b4f-48a7-8fdc-f896c1841aca",
   "metadata": {},
   "source": [
    "## 3.3 Time Until the Limit\n",
    "1) Write a **function** which inputs a list of star magnitudes (brightnesses) and time limit.\n",
    "   - Make your time limit a default argument.\n",
    "2) Inside your function, make a counter called `total time` and set it to 0.\n",
    "3) Inside your function, use a `while` loop to set the time limit of your observation.\n",
    "4) Inside your function, use assigment operators to update the `total time` observed. \n",
    "5) Inside your function, use a `condition` to skip stars with magnitude 20 or greater. \n",
    "6) Have your function return the **number of stars that can be observed** within the time limit and **how long the observation will take** (this should be less than the time limit).\n",
    "7) Test out your function with the **given** magnitude values and time limit."
   ]
  },
  {
   "cell_type": "code",
   "execution_count": 12,
   "id": "5a541a62-0903-41bd-91c9-ee21172069a3",
   "metadata": {},
   "outputs": [
    {
     "name": "stdout",
     "output_type": "stream",
     "text": [
      "Number of stars that can be observed within 500 seconds: 0\n",
      "Time elapsed: 0\n"
     ]
    }
   ],
   "source": [
    "def max_stars_observed(magnitude_list, time_limit = 500):\n",
    "#Counts the maximum number of stars that can be observed in a given time period. I sorted the list of times in order to make sure that (yes, I looked up the function on the internet).\n",
    "    time_list = observation_time(magnitude_list)[1]\n",
    "    time_list.sort()\n",
    "\n",
    "    elapsed_time = 0\n",
    "    counted_stars = 0\n",
    "    \n",
    "    while(time_list[counted_stars] + elapsed_time < time_limit):\n",
    "        #observation_time function already excludes stars with a magnitude > 20, so no need to check condition again\n",
    "        elapsed_time += time_list[counted_stars]\n",
    "        counted_stars += 1\n",
    "\n",
    "    return [counted_stars, elapsed_time]\n",
    "\n",
    "magnitudes = [12.5, 13.2, 14.8, 19.1, 21.0, 18.5, 15.3, 10.5, 23.0]\n",
    "print(f\"Number of stars that can be observed within 500 seconds: {max_stars_observed(magnitudes)[0]}\")\n",
    "print(f\"Time elapsed: {max_stars_observed(magnitudes)[1]}\")"
   ]
  },
  {
   "cell_type": "markdown",
   "id": "d2ab246f-9570-483e-b35b-cf1056f20936",
   "metadata": {},
   "source": [
    "## 3.4 Call Upon Your Functions\n",
    "You do not need to rewrite your functions once you have written them! That's what is so awesome about **functions**! \n",
    "\n",
    "1) With a new test case (different magnitudes and time limit) call your three functions you wrote above.\n",
    "2) Print out their return statements, example:\n",
    "\n",
    "```\n",
    ">>> my_return = my_function(my_argument):\n",
    ">>> print(my_return)\n",
    "```"
   ]
  },
  {
   "cell_type": "code",
   "execution_count": 13,
   "id": "4c4c9389-04f5-49bc-823c-a12d6c003b60",
   "metadata": {},
   "outputs": [
    {
     "name": "stdout",
     "output_type": "stream",
     "text": [
      "[1.1215136714319198, [1.0, 0.03019951720402016, 7.585775750291836e-05, 6.30957344480193e-06, 1e-08, 5.248074602497712e-14, 0.09120108393559097, 2.089296130854041e-05, 1e-05]]\n",
      "[100319579.97375804, [1.0, 33.11311214825911, 13182.567385564074, 158489.3192461114, 100000000.0, 10.96478196143185, 47863.0092322638, 99999.99999999999]]\n",
      "[3, 45.07789410969096]\n"
     ]
    }
   ],
   "source": [
    "magnitudes = [0, 3.8, 10.3, 13.0, 20.0, 33.2, 2.6, 11.7, 12.5]\n",
    "time_limit = 3600\n",
    "\n",
    "brightness_values = magnitude_to_brightness(magnitudes)\n",
    "print(brightness_values)\n",
    "\n",
    "time_values = observation_time(magnitudes)\n",
    "print(time_values)\n",
    "\n",
    "counting_stars = max_stars_observed(magnitudes, time_limit)\n",
    "print(counting_stars)"
   ]
  },
  {
   "cell_type": "markdown",
   "id": "daba92d4-a646-4efc-824d-85b52ea3c573",
   "metadata": {},
   "source": [
    "# 4 Debug the Quadratic Function!\n",
    "The code below does not follow proper coding hygiene (good coding sklls) and is riddled with bugs! Answer the following question and follow the steps below:\n",
    "1) When you run the cell, what is the first error you get? What does this mean? What are three other things wrong with this function?\n",
    "2) Fix the bugs! No importing packages.\n",
    "3) Rewrite the code, such that it follows \"good coding skills\".\n",
    "\n",
    "Try out the test case of `a = 2`, `b = -5` and `c = 3`. You should get `(1.5, 1.0)`. Try out your own test case as well."
   ]
  },
  {
   "cell_type": "code",
   "execution_count": 14,
   "id": "cd66dd28-f8d3-447c-8d20-ff3e31bfaa07",
   "metadata": {},
   "outputs": [
    {
     "name": "stdout",
     "output_type": "stream",
     "text": [
      "(1.0, 1.5)\n",
      "(-2.0, 0.0)\n"
     ]
    }
   ],
   "source": [
    "#The first error I got is called invalid decimal literal. This happened because the 2 and the a were not multiplied using proper syntax.\n",
    "#One thing that is wrong with the code is that c is a string, which can't be used to do arithmetic operations. \n",
    "#Secondly, the function is not labelled with a descriptive name.\n",
    "#Finally, the while loop would continue indefinitely as long as a is not zero.\n",
    "def quadratic_solver(a, b, c):\n",
    "    #Solves the quadratic equation given by the coefficients a, b, and c, checking if it gives a real solution\n",
    "    bottom = 2 * a\n",
    "    \n",
    "    if bottom == 0:\n",
    "        return \"Not a quadratic equation.\"\n",
    "    \n",
    "    if (b**2 - 4 * a * c >= 0):\n",
    "        \n",
    "        pos_answer = (-b + (b**2 - 4 * a * c)**(1/2)) / bottom \n",
    "        neg_answer = (-b - (b**2 - 4 * a * c)**(1/2)) / bottom\n",
    "    \n",
    "        return neg_answer, pos_answer\n",
    "    \n",
    "    else:\n",
    "        return \"No real solution\"\n",
    "        \n",
    "print(quadratic_solver(2, -5, 3))\n",
    "print(quadratic_solver(1,2,0))"
   ]
  },
  {
   "cell_type": "markdown",
   "id": "8cf33b19-9bca-484e-8129-d8a4896a1bfa",
   "metadata": {},
   "source": [
    "# 5 Proper Submission\n",
    "To recieve full credit for this assignment make sure you do the following:\n",
    "1) Copy this jupter notebook from the `ulab_2024` repository into **YOUR** local `homework` branch.\n",
    "   \n",
    "3) Follow the tasks. Make sure to run all the cells so that all output is visible.\n",
    "   \n",
    "5) Push this notebook to your remote `homework6` branch. Refer to the lecture slides for more information.\n",
    "      \n",
    "6) **WARNING!! IF YOU DO NOT FOLLOW THIS STEP YOU WILL RECIEVE A ZERO!**\n",
    "   1) Take a screenshot of your command line when you `push` this notebook from your local `homework6` branch to your remote `homework6` branch. Make sure to prove that you are inside a branch besides `main` or `master` by calling `git branch` and make sure to prove that your `homework6` branch only contains the homework4 folder of Jupyter Notebook you copied over from `ulab_2024` (which can be done by calling `ls`). You could also call `git status` before/after as a way to prove you pushed the proper files to the correct branches.\n",
    "   2)  Include that screenshot in your remote branch when you upload your GitHub branch to Gradescope!"
   ]
  },
  {
   "cell_type": "code",
   "execution_count": null,
   "id": "b0926042-d1cf-4a2e-8fc8-d93395a6a7cf",
   "metadata": {},
   "outputs": [],
   "source": []
  }
 ],
 "metadata": {
  "kernelspec": {
   "display_name": "Python 3 (ipykernel)",
   "language": "python",
   "name": "python3"
  },
  "language_info": {
   "codemirror_mode": {
    "name": "ipython",
    "version": 3
   },
   "file_extension": ".py",
   "mimetype": "text/x-python",
   "name": "python",
   "nbconvert_exporter": "python",
   "pygments_lexer": "ipython3",
   "version": "3.12.4"
  }
 },
 "nbformat": 4,
 "nbformat_minor": 5
}
